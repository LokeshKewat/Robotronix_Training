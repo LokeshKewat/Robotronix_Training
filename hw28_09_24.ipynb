{
 "cells": [
  {
   "cell_type": "code",
   "execution_count": 3,
   "id": "3e7ef96c-e83a-45df-9a55-472c9ed1910d",
   "metadata": {},
   "outputs": [
    {
     "data": {
      "text/plain": [
       "['__add__',\n",
       " '__class__',\n",
       " '__contains__',\n",
       " '__delattr__',\n",
       " '__dir__',\n",
       " '__doc__',\n",
       " '__eq__',\n",
       " '__format__',\n",
       " '__ge__',\n",
       " '__getattribute__',\n",
       " '__getitem__',\n",
       " '__getnewargs__',\n",
       " '__getstate__',\n",
       " '__gt__',\n",
       " '__hash__',\n",
       " '__init__',\n",
       " '__init_subclass__',\n",
       " '__iter__',\n",
       " '__le__',\n",
       " '__len__',\n",
       " '__lt__',\n",
       " '__mod__',\n",
       " '__mul__',\n",
       " '__ne__',\n",
       " '__new__',\n",
       " '__reduce__',\n",
       " '__reduce_ex__',\n",
       " '__repr__',\n",
       " '__rmod__',\n",
       " '__rmul__',\n",
       " '__setattr__',\n",
       " '__sizeof__',\n",
       " '__str__',\n",
       " '__subclasshook__',\n",
       " 'capitalize',\n",
       " 'casefold',\n",
       " 'center',\n",
       " 'count',\n",
       " 'encode',\n",
       " 'endswith',\n",
       " 'expandtabs',\n",
       " 'find',\n",
       " 'format',\n",
       " 'format_map',\n",
       " 'index',\n",
       " 'isalnum',\n",
       " 'isalpha',\n",
       " 'isascii',\n",
       " 'isdecimal',\n",
       " 'isdigit',\n",
       " 'isidentifier',\n",
       " 'islower',\n",
       " 'isnumeric',\n",
       " 'isprintable',\n",
       " 'isspace',\n",
       " 'istitle',\n",
       " 'isupper',\n",
       " 'join',\n",
       " 'ljust',\n",
       " 'lower',\n",
       " 'lstrip',\n",
       " 'maketrans',\n",
       " 'partition',\n",
       " 'removeprefix',\n",
       " 'removesuffix',\n",
       " 'replace',\n",
       " 'rfind',\n",
       " 'rindex',\n",
       " 'rjust',\n",
       " 'rpartition',\n",
       " 'rsplit',\n",
       " 'rstrip',\n",
       " 'split',\n",
       " 'splitlines',\n",
       " 'startswith',\n",
       " 'strip',\n",
       " 'swapcase',\n",
       " 'title',\n",
       " 'translate',\n",
       " 'upper',\n",
       " 'zfill']"
      ]
     },
     "execution_count": 3,
     "metadata": {},
     "output_type": "execute_result"
    }
   ],
   "source": [
    "#================================String methods ===============================\n",
    "dir(str)\n"
   ]
  },
  {
   "cell_type": "code",
   "execution_count": 5,
   "id": "48cddd33-301b-4ea7-bbb7-f356834529f7",
   "metadata": {},
   "outputs": [
    {
     "name": "stdout",
     "output_type": "stream",
     "text": [
      "Pyhton is very interesting language\n",
      "Return a capitalized version of the string.\n",
      "\n",
      "More specifically, make the first character have upper case and the rest lower\n",
      "case.\n"
     ]
    }
   ],
   "source": [
    "# =======capitalize========\n",
    "st1='pyhton is very interesting language'\n",
    "print(st1.capitalize())\n",
    "print(st1.capitalize.__doc__)"
   ]
  },
  {
   "cell_type": "code",
   "execution_count": 7,
   "id": "5af3078c-d0bb-4608-92fc-8629a511b624",
   "metadata": {},
   "outputs": [
    {
     "name": "stdout",
     "output_type": "stream",
     "text": [
      "$$$$$$$$$$$$$$$$$$$ pyhton is very very interesting language $$$$$$$$$$$$$$$$$$$\n",
      "Return a centered string of length width.\n",
      "\n",
      "Padding is done using the specified fill character (default is a space).\n"
     ]
    }
   ],
   "source": [
    "#=============center===============\n",
    "st1=' pyhton is very very interesting language '\n",
    "print(st1.center(80,'$'))\n",
    "print(st1.center.__doc__)"
   ]
  },
  {
   "cell_type": "code",
   "execution_count": 9,
   "id": "4e996e63-17a9-4b09-9d7f-f1aa4c02ed13",
   "metadata": {},
   "outputs": [
    {
     "name": "stdout",
     "output_type": "stream",
     "text": [
      "S.count(sub[, start[, end]]) -> int\n",
      "\n",
      "Return the number of non-overlapping occurrences of substring sub in\n",
      "string S[start:end].  Optional arguments start and end are\n",
      "interpreted as in slice notation.\n"
     ]
    }
   ],
   "source": [
    "#===================count==================\n",
    "st1=' pyhton is very very interesting language '\n",
    "st1.count('very',0,15)\n",
    "print(st1.count.__doc__)"
   ]
  },
  {
   "cell_type": "code",
   "execution_count": 11,
   "id": "ff16a24f-acc8-48ac-9506-5db775ff7129",
   "metadata": {},
   "outputs": [
    {
     "name": "stdout",
     "output_type": "stream",
     "text": [
      "S.find(sub[, start[, end]]) -> int\n",
      "\n",
      "Return the lowest index in S where substring sub is found,\n",
      "such that sub is contained within S[start:end].  Optional\n",
      "arguments start and end are interpreted as in slice notation.\n",
      "\n",
      "Return -1 on failure.\n"
     ]
    }
   ],
   "source": [
    "st1=' pyhton is very very interesting language '\n",
    "st1.find('is')\n",
    "print(st1.find.__doc__)\n"
   ]
  },
  {
   "cell_type": "code",
   "execution_count": 13,
   "id": "9a3376bf-ec0e-4d5b-b7f4-8773296c31e1",
   "metadata": {},
   "outputs": [
    {
     "name": "stdout",
     "output_type": "stream",
     "text": [
      "Return True if the string is an alpha-numeric string, False otherwise.\n",
      "\n",
      "A string is alpha-numeric if all characters in the string are alpha-numeric and\n",
      "there is at least one character in the string.\n",
      "True\n"
     ]
    }
   ],
   "source": [
    "st1='pyhtone'             # The isalnum() method in Python checks whether all characters in a string are alphanumeric (i.e., only letters and numbers)\n",
    "print(st1.isalnum.__doc__)\n",
    "print(st1.isalnum())"
   ]
  },
  {
   "cell_type": "code",
   "execution_count": 15,
   "id": "8bad4e10-a011-4c88-aa04-afa8cf044f2a",
   "metadata": {},
   "outputs": [
    {
     "name": "stdout",
     "output_type": "stream",
     "text": [
      "Return True if the string is an alphabetic string, False otherwise.\n",
      "\n",
      "A string is alphabetic if all characters in the string are alphabetic and there\n",
      "is at least one character in the string.\n"
     ]
    }
   ],
   "source": [
    "st1='String'\n",
    "st1.isalpha()\n",
    "print(st1.isalpha.__doc__)"
   ]
  },
  {
   "cell_type": "code",
   "execution_count": 17,
   "id": "2265934d-ea31-4d1e-b131-bcbc3daa4585",
   "metadata": {},
   "outputs": [
    {
     "name": "stdout",
     "output_type": "stream",
     "text": [
      "Return True if the string is a digit string, False otherwise.\n",
      "\n",
      "A string is a digit string if all characters in the string are digits and there\n",
      "is at least one character in the string.\n"
     ]
    }
   ],
   "source": [
    "st1='String'\n",
    "st1.isdigit()\n",
    "print(st1.isdigit.__doc__)\n"
   ]
  },
  {
   "cell_type": "code",
   "execution_count": null,
   "id": "82113ec3-c7bc-4d55-a4a6-89c2b4d37540",
   "metadata": {},
   "outputs": [],
   "source": []
  },
  {
   "cell_type": "code",
   "execution_count": 20,
   "id": "1f5f7a2e-df35-433d-9831-a23f908d381a",
   "metadata": {},
   "outputs": [
    {
     "name": "stdout",
     "output_type": "stream",
     "text": [
      "Return True if the string is a lowercase string, False otherwise.\n",
      "\n",
      "A string is lowercase if all cased characters in the string are lowercase and\n",
      "there is at least one cased character in the string.\n"
     ]
    }
   ],
   "source": [
    "st1='lower'\n",
    "st1.islower()\n",
    "print(st1.islower.__doc__)"
   ]
  },
  {
   "cell_type": "code",
   "execution_count": 22,
   "id": "ef414e0e-f6ae-49b7-b309-ca94ba24ce81",
   "metadata": {},
   "outputs": [
    {
     "name": "stdout",
     "output_type": "stream",
     "text": [
      "Return True if the string is a numeric string, False otherwise.\n",
      "\n",
      "A string is numeric if all characters in the string are numeric and there is at\n",
      "least one character in the string.\n"
     ]
    }
   ],
   "source": [
    "st1='35563'\n",
    "st1.isnumeric()\n",
    "print(st1.isnumeric.__doc__)"
   ]
  },
  {
   "cell_type": "code",
   "execution_count": 24,
   "id": "7d463b5c-cb8a-4e00-b171-a74e8b5f4546",
   "metadata": {},
   "outputs": [
    {
     "name": "stdout",
     "output_type": "stream",
     "text": [
      "Return True if the string is a title-cased string, False otherwise.\n",
      "\n",
      "In a title-cased string, upper- and title-case characters may only\n",
      "follow uncased characters and lowercase characters only cased ones.\n"
     ]
    }
   ],
   "source": [
    "st1='String Is'\n",
    "st1.istitle()\n",
    "print(st1.istitle.__doc__)\n"
   ]
  },
  {
   "cell_type": "code",
   "execution_count": 26,
   "id": "3959d158-003a-4b80-90bd-d76d7bd05969",
   "metadata": {},
   "outputs": [
    {
     "name": "stdout",
     "output_type": "stream",
     "text": [
      "Return True if the string is an uppercase string, False otherwise.\n",
      "\n",
      "A string is uppercase if all cased characters in the string are uppercase and\n",
      "there is at least one cased character in the string.\n"
     ]
    }
   ],
   "source": [
    "st1='STRING'\n",
    "st1.isupper()\n",
    "print(st1.isupper.__doc__)"
   ]
  },
  {
   "cell_type": "code",
   "execution_count": 28,
   "id": "13336b85-a2d8-41f6-bdb7-435737a84f9d",
   "metadata": {},
   "outputs": [
    {
     "name": "stdout",
     "output_type": "stream",
     "text": [
      "sunday & monday & tuesday\n"
     ]
    }
   ],
   "source": [
    "li1=['sunday','monday','tuesday']\n",
    "sentence=\" & \".join(li1)\n",
    "print(sentence)"
   ]
  },
  {
   "cell_type": "code",
   "execution_count": 30,
   "id": "8acb82fa-27ea-4c93-91d8-8232064997ae",
   "metadata": {},
   "outputs": [
    {
     "name": "stdout",
     "output_type": "stream",
     "text": [
      "h  &  e  &  l  &  l  &  o  &     &  p  &  y  &  t  &  h  &  o  &  n\n"
     ]
    }
   ],
   "source": [
    "st1= 'hello python'\n",
    "st1=\"  &  \".join(st1)\n",
    "print(st1)\n"
   ]
  },
  {
   "cell_type": "code",
   "execution_count": 37,
   "id": "a9e12096-ebc9-4292-8e29-c08724e00ba0",
   "metadata": {},
   "outputs": [
    {
     "name": "stdout",
     "output_type": "stream",
     "text": [
      "string is a array of character\n",
      "Return a copy of the string converted to lowercase.\n"
     ]
    }
   ],
   "source": [
    "st1='STRING is a array of character'\n",
    "print(st1.lower())\n",
    "print(st1.lower.__doc__)"
   ]
  },
  {
   "cell_type": "code",
   "execution_count": 49,
   "id": "45700f29-5b1f-4799-9c1e-cf2257073141",
   "metadata": {},
   "outputs": [
    {
     "name": "stdout",
     "output_type": "stream",
     "text": [
      "('Stri', 'n', 'gisarrayofchnaracter')\n"
     ]
    }
   ],
   "source": [
    "st1='Stringisarrayofchnaracter'\n",
    "print(st1.partition(\"n\"))"
   ]
  },
  {
   "cell_type": "code",
   "execution_count": 53,
   "id": "60ef3157-d55f-4695-936b-8efe31d8e2a9",
   "metadata": {},
   "outputs": [
    {
     "name": "stdout",
     "output_type": "stream",
     "text": [
      "Partition the string into three parts using the given separator.\n",
      "\n",
      "This will search for the separator in the string.  If the separator is found,\n",
      "returns a 3-tuple containing the part before the separator, the separator\n",
      "itself, and the part after it.\n",
      "\n",
      "If the separator is not found, returns a 3-tuple containing the original string\n",
      "and two empty strings.\n"
     ]
    }
   ],
   "source": [
    "print(st1.partition.__doc__)"
   ]
  },
  {
   "cell_type": "code",
   "execution_count": 61,
   "id": "e4ac2030-c2b7-4d56-8396-531d977c1d26",
   "metadata": {},
   "outputs": [
    {
     "data": {
      "text/plain": [
       "'string is a array of character'"
      ]
     },
     "execution_count": 61,
     "metadata": {},
     "output_type": "execute_result"
    }
   ],
   "source": [
    "st1='string is a array of object'\n",
    "st1.replace('object','character')\n"
   ]
  },
  {
   "cell_type": "code",
   "execution_count": 65,
   "id": "6947c806-ccf2-46fc-aeb7-4d4e1e434a36",
   "metadata": {},
   "outputs": [
    {
     "name": "stdout",
     "output_type": "stream",
     "text": [
      "Return a copy with all occurrences of substring old replaced by new.\n",
      "\n",
      "  count\n",
      "    Maximum number of occurrences to replace.\n",
      "    -1 (the default value) means replace all occurrences.\n",
      "\n",
      "If the optional argument count is given, only the first count occurrences are\n",
      "replaced.\n"
     ]
    }
   ],
   "source": [
    "print(st1.replace.__doc__)"
   ]
  },
  {
   "cell_type": "code",
   "execution_count": 69,
   "id": "87ef1a55-a79b-4e75-830b-c4ed4da87453",
   "metadata": {},
   "outputs": [
    {
     "data": {
      "text/plain": [
       "['set is ', ' collection d', 't', 'type']"
      ]
     },
     "execution_count": 69,
     "metadata": {},
     "output_type": "execute_result"
    }
   ],
   "source": [
    "st1='set is a collection datatype'\n",
    "st1.split('a')"
   ]
  },
  {
   "cell_type": "code",
   "execution_count": 77,
   "id": "c44c7606-6611-4438-9176-92cb3114de90",
   "metadata": {},
   "outputs": [
    {
     "name": "stdout",
     "output_type": "stream",
     "text": [
      "Return a list of the substrings in the string, using sep as the separator string.\n",
      "\n",
      "  sep\n",
      "    The separator used to split the string.\n",
      "\n",
      "    When set to None (the default value), will split on any whitespace\n",
      "    character (including \\\\n \\\\r \\\\t \\\\f and spaces) and will discard\n",
      "    empty strings from the result.\n",
      "  maxsplit\n",
      "    Maximum number of splits (starting from the left).\n",
      "    -1 (the default value) means no limit.\n",
      "\n",
      "Note, str.split() is mainly useful for data that has been intentionally\n",
      "delimited.  With natural text that includes punctuation, consider using\n",
      "the regular expression module.\n"
     ]
    }
   ],
   "source": [
    "print(st1.split.__doc__)"
   ]
  },
  {
   "cell_type": "code",
   "execution_count": 84,
   "id": "d531b1e0-5d86-4910-91a2-db58423e933c",
   "metadata": {},
   "outputs": [
    {
     "data": {
      "text/plain": [
       "[' good morning!', 'take a cup of tea.', 'have a good day.']"
      ]
     },
     "execution_count": 84,
     "metadata": {},
     "output_type": "execute_result"
    }
   ],
   "source": [
    "st1=''' good morning!\n",
    "take a cup of tea.\n",
    "have a good day.'''\n",
    "st1.splitlines()"
   ]
  },
  {
   "cell_type": "code",
   "execution_count": 86,
   "id": "e38627f4-9baa-4f43-9c67-b8da84ce4582",
   "metadata": {},
   "outputs": [
    {
     "name": "stdout",
     "output_type": "stream",
     "text": [
      "Return a list of the lines in the string, breaking at line boundaries.\n",
      "\n",
      "Line breaks are not included in the resulting list unless keepends is given and\n",
      "true.\n"
     ]
    }
   ],
   "source": [
    "print(st1.splitlines.__doc__)"
   ]
  },
  {
   "cell_type": "code",
   "execution_count": 108,
   "id": "44da145d-7534-4260-a51a-51eaedf99e75",
   "metadata": {},
   "outputs": [
    {
     "data": {
      "text/plain": [
       "True"
      ]
     },
     "execution_count": 108,
     "metadata": {},
     "output_type": "execute_result"
    }
   ],
   "source": [
    "st1='hello python lovers'\n",
    "st1.startswith('hello')"
   ]
  },
  {
   "cell_type": "code",
   "execution_count": 100,
   "id": "7e2b1606-2572-405c-878c-3e3690b5169d",
   "metadata": {},
   "outputs": [
    {
     "name": "stdout",
     "output_type": "stream",
     "text": [
      "S.startswith(prefix[, start[, end]]) -> bool\n",
      "\n",
      "Return True if S starts with the specified prefix, False otherwise.\n",
      "With optional start, test S beginning at that position.\n",
      "With optional end, stop comparing S at that position.\n",
      "prefix can also be a tuple of strings to try.\n"
     ]
    }
   ],
   "source": [
    "print(st1.startswith.__doc__)"
   ]
  },
  {
   "cell_type": "code",
   "execution_count": 110,
   "id": "97da78be-0464-4076-8ef3-78e3431d25b1",
   "metadata": {},
   "outputs": [
    {
     "data": {
      "text/plain": [
       "True"
      ]
     },
     "execution_count": 110,
     "metadata": {},
     "output_type": "execute_result"
    }
   ],
   "source": [
    "st1='hello python lovers'\n",
    "st1.endswith('lovers')"
   ]
  },
  {
   "cell_type": "code",
   "execution_count": 114,
   "id": "5b7096aa-34f6-4d93-8466-1798ca9f44f1",
   "metadata": {},
   "outputs": [
    {
     "name": "stdout",
     "output_type": "stream",
     "text": [
      "S.endswith(suffix[, start[, end]]) -> bool\n",
      "\n",
      "Return True if S ends with the specified suffix, False otherwise.\n",
      "With optional start, test S beginning at that position.\n",
      "With optional end, stop comparing S at that position.\n",
      "suffix can also be a tuple of strings to try.\n"
     ]
    }
   ],
   "source": [
    "print(st1.endswith.__doc__)"
   ]
  },
  {
   "cell_type": "code",
   "execution_count": 139,
   "id": "7d4deb4f-265e-4269-995d-1755f89a6c95",
   "metadata": {},
   "outputs": [
    {
     "data": {
      "text/plain": [
       "' hello python lovers '"
      ]
     },
     "execution_count": 139,
     "metadata": {},
     "output_type": "execute_result"
    }
   ],
   "source": [
    "st1='$$ hello python lovers $$'\n",
    "st1.strip('$$')"
   ]
  },
  {
   "cell_type": "code",
   "execution_count": 141,
   "id": "667eea25-0ec8-4814-bf1f-a1037c459dd9",
   "metadata": {},
   "outputs": [
    {
     "name": "stdout",
     "output_type": "stream",
     "text": [
      "Return a copy of the string with leading and trailing whitespace removed.\n",
      "\n",
      "If chars is given and not None, remove characters in chars instead.\n"
     ]
    }
   ],
   "source": [
    "print(st1.strip.__doc__)"
   ]
  },
  {
   "cell_type": "code",
   "execution_count": 149,
   "id": "1993bd09-48da-4a6d-b7ff-06b48ad8bdd2",
   "metadata": {},
   "outputs": [
    {
     "data": {
      "text/plain": [
       "'SWAP CASE SWAPS THE CASE ,UPPER TO LOWER and LOWER TO UPPER '"
      ]
     },
     "execution_count": 149,
     "metadata": {},
     "output_type": "execute_result"
    }
   ],
   "source": [
    "st1='swap case swaps the case ,upper to lower AND lower to upper '\n",
    "st1.swapcase()"
   ]
  },
  {
   "cell_type": "code",
   "execution_count": 153,
   "id": "50df838f-b48e-405e-b5fa-1ce774ec9473",
   "metadata": {},
   "outputs": [
    {
     "name": "stdout",
     "output_type": "stream",
     "text": [
      "Convert uppercase characters to lowercase and lowercase characters to uppercase.\n"
     ]
    }
   ],
   "source": [
    "print(st1.swapcase.__doc__)"
   ]
  },
  {
   "cell_type": "code",
   "execution_count": 157,
   "id": "41d0f4d3-be98-442b-b12c-64da875cc6b9",
   "metadata": {},
   "outputs": [
    {
     "data": {
      "text/plain": [
       "'SWAP CASE SWAPS THE CASE ,UPPER TO LOWER AND LOWER TO UPPER '"
      ]
     },
     "execution_count": 157,
     "metadata": {},
     "output_type": "execute_result"
    }
   ],
   "source": [
    "st1='swap case swaps the case ,upper to lower AND lower to upper '\n",
    "st1.upper()"
   ]
  },
  {
   "cell_type": "code",
   "execution_count": 161,
   "id": "f8b73e48-b9fa-466c-84b6-140d53314b35",
   "metadata": {},
   "outputs": [
    {
     "name": "stdout",
     "output_type": "stream",
     "text": [
      "Return a copy of the string converted to uppercase.\n"
     ]
    }
   ],
   "source": [
    "print(st1.upper.__doc__)"
   ]
  },
  {
   "cell_type": "code",
   "execution_count": 169,
   "id": "38748884-21f7-405e-a2eb-6df2bbcfd3b0",
   "metadata": {},
   "outputs": [
    {
     "name": "stdout",
     "output_type": "stream",
     "text": [
      "Return a version of the string where each word is titlecased.\n",
      "\n",
      "More specifically, words start with uppercased characters and all remaining\n",
      "cased characters have lower case.\n"
     ]
    }
   ],
   "source": [
    "st1='title method conver first letter of string into upper case or make title of string '\n",
    "st1.title()\n",
    "print(st1.title.__doc__)"
   ]
  },
  {
   "cell_type": "code",
   "execution_count": 183,
   "id": "4bda17ba-8b1b-4fcc-95e2-6d21077b76aa",
   "metadata": {},
   "outputs": [
    {
     "data": {
      "text/plain": [
       "'0000000000helloworld'"
      ]
     },
     "execution_count": 183,
     "metadata": {},
     "output_type": "execute_result"
    }
   ],
   "source": [
    "text='helloworld'\n",
    "text.zfill(20)"
   ]
  },
  {
   "cell_type": "code",
   "execution_count": 185,
   "id": "4e43ca39-b6f5-400e-8c09-5dcb1cf2146b",
   "metadata": {},
   "outputs": [
    {
     "name": "stdout",
     "output_type": "stream",
     "text": [
      "Pad a numeric string with zeros on the left, to fill a field of the given width.\n",
      "\n",
      "The string is never truncated.\n"
     ]
    }
   ],
   "source": [
    "print(text.zfill.__doc__)"
   ]
  },
  {
   "cell_type": "code",
   "execution_count": 207,
   "id": "1dbaa652-0746-4a58-8f05-333aafd14958",
   "metadata": {},
   "outputs": [
    {
     "name": "stdin",
     "output_type": "stream",
     "text": [
      "enter number 1 :  56\n",
      "enter number 2 :  98\n"
     ]
    },
    {
     "name": "stdout",
     "output_type": "stream",
     "text": [
      "the HCF of given numbers is =  14\n"
     ]
    }
   ],
   "source": [
    "# ============================= finding HCF ===================\n",
    "num1=int(input(\"enter number 1 : \"))\n",
    "num2=int(input(\"enter number 2 : \"))\n",
    "while num2:\n",
    "    num1,num2=num2,num1%num2\n",
    "print('the HCF of given numbers is = ',num1)"
   ]
  }
 ],
 "metadata": {
  "kernelspec": {
   "display_name": "Python 3 (ipykernel)",
   "language": "python",
   "name": "python3"
  },
  "language_info": {
   "codemirror_mode": {
    "name": "ipython",
    "version": 3
   },
   "file_extension": ".py",
   "mimetype": "text/x-python",
   "name": "python",
   "nbconvert_exporter": "python",
   "pygments_lexer": "ipython3",
   "version": "3.11.5"
  }
 },
 "nbformat": 4,
 "nbformat_minor": 5
}
