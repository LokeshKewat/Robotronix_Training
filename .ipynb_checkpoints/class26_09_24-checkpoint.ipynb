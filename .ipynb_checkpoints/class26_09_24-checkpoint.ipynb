{
 "cells": [
  {
   "cell_type": "code",
   "execution_count": 1,
   "id": "ef58dd51-3268-44f0-925f-0b13d0fc2bd9",
   "metadata": {},
   "outputs": [],
   "source": [
    "#================OPERATORS==================="
   ]
  },
  {
   "cell_type": "code",
   "execution_count": 2,
   "id": "63e3348f-e44e-4628-94f3-4c30756ef8c0",
   "metadata": {},
   "outputs": [
    {
     "ename": "ValueError",
     "evalue": "invalid literal for int() with base 10: '34.5'",
     "output_type": "error",
     "traceback": [
      "\u001b[1;31m---------------------------------------------------------------------------\u001b[0m",
      "\u001b[1;31mValueError\u001b[0m                                Traceback (most recent call last)",
      "Cell \u001b[1;32mIn[2], line 2\u001b[0m\n\u001b[0;32m      1\u001b[0m a\u001b[38;5;241m=\u001b[39m\u001b[38;5;124m'\u001b[39m\u001b[38;5;124m34.5\u001b[39m\u001b[38;5;124m'\u001b[39m\n\u001b[1;32m----> 2\u001b[0m b\u001b[38;5;241m=\u001b[39m\u001b[38;5;28mint\u001b[39m(a)\n\u001b[0;32m      3\u001b[0m \u001b[38;5;28mprint\u001b[39m(b)\n",
      "\u001b[1;31mValueError\u001b[0m: invalid literal for int() with base 10: '34.5'"
     ]
    }
   ],
   "source": [
    "a='34.5'\n",
    "b=int(a)\n",
    "print(b)"
   ]
  },
  {
   "cell_type": "code",
   "execution_count": 9,
   "id": "b043f39d-de58-4717-894d-35d87d57810f",
   "metadata": {},
   "outputs": [
    {
     "ename": "TypeError",
     "evalue": "int() argument must be a string, a bytes-like object or a real number, not 'list'",
     "output_type": "error",
     "traceback": [
      "\u001b[1;31m---------------------------------------------------------------------------\u001b[0m",
      "\u001b[1;31mTypeError\u001b[0m                                 Traceback (most recent call last)",
      "Cell \u001b[1;32mIn[9], line 2\u001b[0m\n\u001b[0;32m      1\u001b[0m a\u001b[38;5;241m=\u001b[39m[\u001b[38;5;241m2\u001b[39m,\u001b[38;5;241m4\u001b[39m,\u001b[38;5;241m6\u001b[39m]\n\u001b[1;32m----> 2\u001b[0m b\u001b[38;5;241m=\u001b[39m\u001b[38;5;28mint\u001b[39m(a)\n\u001b[0;32m      3\u001b[0m \u001b[38;5;28mprint\u001b[39m(b)\n",
      "\u001b[1;31mTypeError\u001b[0m: int() argument must be a string, a bytes-like object or a real number, not 'list'"
     ]
    }
   ],
   "source": [
    "a=[2,4,6]\n",
    "b=int(a)\n",
    "print(b)"
   ]
  },
  {
   "cell_type": "code",
   "execution_count": 25,
   "id": "8b80dbc5-b003-4bbb-b20d-f7ab515cbba3",
   "metadata": {},
   "outputs": [
    {
     "data": {
      "text/plain": [
       "'\\n'"
      ]
     },
     "execution_count": 25,
     "metadata": {},
     "output_type": "execute_result"
    }
   ],
   "source": [
    "#================== types of operators ================\n",
    "# arithmetic operators:- +,-,/,*\n",
    "#Logical operators :- and or not \n",
    "#relational operators:- \n",
    "#Identity operator\n",
    "#membership operator\n",
    "#assignment operator\n",
    "#"
   ]
  },
  {
   "cell_type": "code",
   "execution_count": 21,
   "id": "f8e0501e-0b73-485d-ba41-c098394c57dc",
   "metadata": {},
   "outputs": [
    {
     "name": "stdout",
     "output_type": "stream",
     "text": [
      "5\n",
      "5.75\n"
     ]
    }
   ],
   "source": [
    "#====================floor division========\n",
    "a=23//4\n",
    "print(a)\n",
    "b=23/4\n",
    "print(b)"
   ]
  },
  {
   "cell_type": "code",
   "execution_count": 23,
   "id": "89958cee-6d31-4fb9-9189-18b85eee6a8d",
   "metadata": {},
   "outputs": [],
   "source": [
    "# ==============assignment operators==============\n"
   ]
  },
  {
   "cell_type": "code",
   "execution_count": 43,
   "id": "d7ecd175-40b8-4110-9c9b-581d7d890657",
   "metadata": {},
   "outputs": [
    {
     "name": "stdout",
     "output_type": "stream",
     "text": [
      "109834\n"
     ]
    },
    {
     "data": {
      "text/plain": [
       "6"
      ]
     },
     "execution_count": 43,
     "metadata": {},
     "output_type": "execute_result"
    }
   ],
   "source": [
    "a=109834\n",
    "# a=a%10\n",
    "# a=a//10\n",
    "print(a)\n",
    "a=str(a)\n",
    "len(a)"
   ]
  },
  {
   "cell_type": "code",
   "execution_count": 47,
   "id": "5a717b33-b9fb-46e1-9391-1c7e1c2edba1",
   "metadata": {},
   "outputs": [
    {
     "name": "stdout",
     "output_type": "stream",
     "text": [
      "Return the number of items in a container.\n"
     ]
    }
   ],
   "source": [
    "print(len.__doc__)"
   ]
  },
  {
   "cell_type": "code",
   "execution_count": 51,
   "id": "a493dc61-f9fd-4db0-b1e8-f3d9204eaa7e",
   "metadata": {},
   "outputs": [
    {
     "name": "stdout",
     "output_type": "stream",
     "text": [
      "int([x]) -> integer\n",
      "int(x, base=10) -> integer\n",
      "\n",
      "Convert a number or string to an integer, or return 0 if no arguments\n",
      "are given.  If x is a number, return x.__int__().  For floating point\n",
      "numbers, this truncates towards zero.\n",
      "\n",
      "If x is not a number or if base is given, then x must be a string,\n",
      "bytes, or bytearray instance representing an integer literal in the\n",
      "given base.  The literal can be preceded by '+' or '-' and be surrounded\n",
      "by whitespace.  The base defaults to 10.  Valid bases are 0 and 2-36.\n",
      "Base 0 means to interpret the base from the string as an integer literal.\n",
      ">>> int('0b100', base=0)\n",
      "4\n"
     ]
    }
   ],
   "source": [
    "print(int.__doc__)"
   ]
  },
  {
   "cell_type": "code",
   "execution_count": 63,
   "id": "9f0e730a-c398-494b-bbd8-a0f3d7d56585",
   "metadata": {},
   "outputs": [
    {
     "data": {
      "text/plain": [
       "0"
      ]
     },
     "execution_count": 63,
     "metadata": {},
     "output_type": "execute_result"
    }
   ],
   "source": [
    "a=int()\n",
    "a"
   ]
  },
  {
   "cell_type": "code",
   "execution_count": 57,
   "id": "6d5b55dd-917b-42f6-8c33-27751ed490c8",
   "metadata": {},
   "outputs": [
    {
     "name": "stdout",
     "output_type": "stream",
     "text": [
      "zip(*iterables, strict=False) --> Yield tuples until an input is exhausted.\n",
      "\n",
      "   >>> list(zip('abcdefg', range(3), range(4)))\n",
      "   [('a', 0, 0), ('b', 1, 1), ('c', 2, 2)]\n",
      "\n",
      "The zip object yields n-length tuples, where n is the number of iterables\n",
      "passed as positional arguments to zip().  The i-th element in every tuple\n",
      "comes from the i-th iterable argument to zip().  This continues until the\n",
      "shortest argument is exhausted.\n",
      "\n",
      "If strict is true and one of the arguments is exhausted before the others,\n",
      "raise a ValueError.\n"
     ]
    }
   ],
   "source": [
    "print(zip.__doc__)"
   ]
  },
  {
   "cell_type": "code",
   "execution_count": 67,
   "id": "684c8acd-5bbe-4079-b9e6-72d8a7e3ca98",
   "metadata": {},
   "outputs": [],
   "source": [
    "#===========relational operators======\n",
    "# <,>,==,<=,>=,!="
   ]
  },
  {
   "cell_type": "code",
   "execution_count": 71,
   "id": "5057a868-1038-4855-922b-cabfbcf5a850",
   "metadata": {},
   "outputs": [
    {
     "data": {
      "text/plain": [
       "False"
      ]
     },
     "execution_count": 71,
     "metadata": {},
     "output_type": "execute_result"
    }
   ],
   "source": [
    "a=23>45\n",
    "a"
   ]
  },
  {
   "cell_type": "code",
   "execution_count": 77,
   "id": "af23d487-2b79-43cc-b227-a84985cce3a0",
   "metadata": {},
   "outputs": [
    {
     "data": {
      "text/plain": [
       "False"
      ]
     },
     "execution_count": 77,
     "metadata": {},
     "output_type": "execute_result"
    }
   ],
   "source": [
    "a=24>=34\n",
    "a"
   ]
  },
  {
   "cell_type": "code",
   "execution_count": 81,
   "id": "938a3769-277b-4edc-9f46-8609e249f615",
   "metadata": {},
   "outputs": [
    {
     "data": {
      "text/plain": [
       "False"
      ]
     },
     "execution_count": 81,
     "metadata": {},
     "output_type": "execute_result"
    }
   ],
   "source": [
    "a=25!=25\n",
    "a"
   ]
  },
  {
   "cell_type": "code",
   "execution_count": 85,
   "id": "908785b0-9c84-476c-b92b-1532fa6df9a1",
   "metadata": {},
   "outputs": [
    {
     "data": {
      "text/plain": [
       "True"
      ]
     },
     "execution_count": 85,
     "metadata": {},
     "output_type": "execute_result"
    }
   ],
   "source": [
    "a=23!=43\n",
    "a"
   ]
  },
  {
   "cell_type": "code",
   "execution_count": null,
   "id": "bb6d7de7-9e54-4ae6-87d8-c7c03bf57a67",
   "metadata": {},
   "outputs": [],
   "source": [
    "#===============Logical operators==============="
   ]
  },
  {
   "cell_type": "code",
   "execution_count": 89,
   "id": "d980c966-0291-47d1-8511-912fff8777a5",
   "metadata": {},
   "outputs": [
    {
     "data": {
      "text/plain": [
       "False"
      ]
     },
     "execution_count": 89,
     "metadata": {},
     "output_type": "execute_result"
    }
   ],
   "source": [
    "a = not(23)\n",
    "a"
   ]
  },
  {
   "cell_type": "code",
   "execution_count": 95,
   "id": "5fa8af38-17da-40f8-8fd6-14ee3961693f",
   "metadata": {},
   "outputs": [
    {
     "data": {
      "text/plain": [
       "False"
      ]
     },
     "execution_count": 95,
     "metadata": {},
     "output_type": "execute_result"
    }
   ],
   "source": [
    "a= not 12!=34\n",
    "a"
   ]
  },
  {
   "cell_type": "code",
   "execution_count": 99,
   "id": "99f318a8-7204-4500-9648-da5ff22b1402",
   "metadata": {},
   "outputs": [
    {
     "data": {
      "text/plain": [
       "45"
      ]
     },
     "execution_count": 99,
     "metadata": {},
     "output_type": "execute_result"
    }
   ],
   "source": [
    "#====== logical operaato==========\n",
    "23 and 45"
   ]
  },
  {
   "cell_type": "code",
   "execution_count": 103,
   "id": "d0c5a418-e677-4790-9477-f3dd27cb2a09",
   "metadata": {},
   "outputs": [
    {
     "data": {
      "text/plain": [
       "0"
      ]
     },
     "execution_count": 103,
     "metadata": {},
     "output_type": "execute_result"
    }
   ],
   "source": [
    "23 and 0 and 34 "
   ]
  },
  {
   "cell_type": "code",
   "execution_count": 107,
   "id": "d15da27d-0c95-4649-a862-3d681056a9d0",
   "metadata": {},
   "outputs": [
    {
     "data": {
      "text/plain": [
       "23"
      ]
     },
     "execution_count": 107,
     "metadata": {},
     "output_type": "execute_result"
    }
   ],
   "source": [
    "23 or 0"
   ]
  },
  {
   "cell_type": "code",
   "execution_count": 113,
   "id": "299b599d-792a-408a-bfbe-435d17fbe4e5",
   "metadata": {},
   "outputs": [
    {
     "data": {
      "text/plain": [
       "True"
      ]
     },
     "execution_count": 113,
     "metadata": {},
     "output_type": "execute_result"
    }
   ],
   "source": [
    "a = 23>20 and 23<40\n",
    "a"
   ]
  },
  {
   "cell_type": "code",
   "execution_count": null,
   "id": "98e7f69c-724a-4f64-83b4-48c9a18e9fed",
   "metadata": {},
   "outputs": [],
   "source": []
  },
  {
   "cell_type": "code",
   "execution_count": 121,
   "id": "5c749b5a-b5c8-44f1-b68c-c6c5bc71fccc",
   "metadata": {},
   "outputs": [
    {
     "data": {
      "text/plain": [
       "True"
      ]
     },
     "execution_count": 121,
     "metadata": {},
     "output_type": "execute_result"
    }
   ],
   "source": [
    "a = 23>20 or 23>40\n",
    "a"
   ]
  },
  {
   "cell_type": "code",
   "execution_count": 123,
   "id": "0db3ec12-57fc-4b27-9956-e06e131f1418",
   "metadata": {},
   "outputs": [
    {
     "data": {
      "text/plain": [
       "True"
      ]
     },
     "execution_count": 123,
     "metadata": {},
     "output_type": "execute_result"
    }
   ],
   "source": [
    "a= True or True and False\n",
    "a"
   ]
  },
  {
   "cell_type": "code",
   "execution_count": 125,
   "id": "f6715d9e-aa63-4821-a660-b45e523bb5a7",
   "metadata": {},
   "outputs": [
    {
     "data": {
      "text/plain": [
       "8"
      ]
     },
     "execution_count": 125,
     "metadata": {},
     "output_type": "execute_result"
    }
   ],
   "source": [
    "a=2*2+4\n",
    "a"
   ]
  },
  {
   "cell_type": "code",
   "execution_count": 135,
   "id": "026d99b1-f991-4bed-9bb9-d079e02f1ae1",
   "metadata": {},
   "outputs": [
    {
     "data": {
      "text/plain": [
       "True"
      ]
     },
     "execution_count": 135,
     "metadata": {},
     "output_type": "execute_result"
    }
   ],
   "source": [
    "b=1\n",
    "a= 2< 3 and 5<b or 100>4\n",
    "a"
   ]
  },
  {
   "cell_type": "code",
   "execution_count": 151,
   "id": "992a618d-374e-4d01-9b92-30e76f34b0f3",
   "metadata": {},
   "outputs": [
    {
     "name": "stdout",
     "output_type": "stream",
     "text": [
      "140716442621704\n",
      "140716442621704\n",
      "True\n",
      "True\n"
     ]
    }
   ],
   "source": [
    "#============= Identity operators ---> is\n",
    "a=32\n",
    "b=32\n",
    "print(id(a))\n",
    "print(id(b))\n",
    "c= a==b\n",
    "print(c)\n",
    "d=a is b\n",
    "print(d)"
   ]
  },
  {
   "cell_type": "code",
   "execution_count": 155,
   "id": "dc224feb-c173-423b-8749-03609649573a",
   "metadata": {},
   "outputs": [
    {
     "name": "stdout",
     "output_type": "stream",
     "text": [
      "1797833630208\n",
      "1797833627520\n",
      "True\n",
      "False\n"
     ]
    }
   ],
   "source": [
    "a=[32,54,56]\n",
    "b=[32,54,56]\n",
    "print(id(a))\n",
    "print(id(b))\n",
    "c= a==b\n",
    "print(c)\n",
    "d=a is b\n",
    "print(d)"
   ]
  },
  {
   "cell_type": "code",
   "execution_count": 159,
   "id": "4e9f7505-bcde-4aa3-b3ce-ec55f1f556f4",
   "metadata": {},
   "outputs": [
    {
     "name": "stdout",
     "output_type": "stream",
     "text": [
      "True\n"
     ]
    }
   ],
   "source": [
    "#=========== membership operator===========\n",
    "a= ' I am reading book of python programming '\n",
    "b= 'am' in a\n",
    "print(b)"
   ]
  },
  {
   "cell_type": "code",
   "execution_count": 163,
   "id": "7cf9328e-15c8-4730-8b45-8c7466067baf",
   "metadata": {},
   "outputs": [
    {
     "name": "stdout",
     "output_type": "stream",
     "text": [
      "True\n"
     ]
    }
   ],
   "source": [
    "c=[23,45,67,54,234,'hello']\n",
    "b= 'hello' in c\n",
    "print(b)"
   ]
  },
  {
   "cell_type": "code",
   "execution_count": 165,
   "id": "97c99873-ffd9-4f97-975a-0af235a4ec7e",
   "metadata": {},
   "outputs": [
    {
     "name": "stdout",
     "output_type": "stream",
     "text": [
      "False\n"
     ]
    }
   ],
   "source": [
    "c=[23,45,67,54,234,'hello']\n",
    "b= not 'hello' in c\n",
    "print(b)"
   ]
  },
  {
   "cell_type": "code",
   "execution_count": 167,
   "id": "e4c46bbd-ec4e-4c49-b5f6-26cf72cee1e8",
   "metadata": {},
   "outputs": [],
   "source": [
    "#============= string and methods =============="
   ]
  },
  {
   "cell_type": "code",
   "execution_count": 173,
   "id": "6a5bbfe2-4dbd-46eb-bff3-946e65904142",
   "metadata": {},
   "outputs": [
    {
     "name": "stdout",
     "output_type": "stream",
     "text": [
      "test string 1\n",
      "test string 2\n",
      " multipl eline string\n",
      "we can delare \n",
      "in this \n",
      "single triple quotes\n",
      "\n",
      " another \n",
      "type \n",
      "of definnig \n",
      "multiple string\n",
      "\n"
     ]
    },
    {
     "data": {
      "text/plain": [
       "' another \\ntype \\nof definnig \\nmultiple string\\n'"
      ]
     },
     "execution_count": 173,
     "metadata": {},
     "output_type": "execute_result"
    }
   ],
   "source": [
    "# way to declare a string\n",
    "a='test string 1'\n",
    "b=\"test string 2\"\n",
    "c=''' multipl eline string\n",
    "we can delare \n",
    "in this \n",
    "single triple quotes\n",
    "'''\n",
    "d=\"\"\" another \n",
    "type \n",
    "of definnig \n",
    "multiple string\n",
    "\"\"\"\n",
    "print(a)\n",
    "print(b)\n",
    "print(c)\n",
    "print(d)\n",
    "c\n",
    "d\n"
   ]
  },
  {
   "cell_type": "code",
   "execution_count": 179,
   "id": "02d58258-41c6-43b7-b336-07618b593dd6",
   "metadata": {},
   "outputs": [
    {
     "data": {
      "text/plain": [
       "' another \\ntype \\nof definnig \\nmultiple string\\n'"
      ]
     },
     "execution_count": 179,
     "metadata": {},
     "output_type": "execute_result"
    }
   ],
   "source": [
    "d"
   ]
  },
  {
   "cell_type": "code",
   "execution_count": 191,
   "id": "ea3e6703-072a-4c53-b020-019c6b90c2b0",
   "metadata": {},
   "outputs": [
    {
     "name": "stdout",
     "output_type": "stream",
     "text": [
      "this isnewlineof stringhello\n"
     ]
    }
   ],
   "source": [
    "e= 'this is\\\n",
    "newline\\\n",
    "of string\\\n",
    "hello'\n",
    "print(e)"
   ]
  },
  {
   "cell_type": "code",
   "execution_count": 199,
   "id": "caba7399-ec02-437a-9672-f688a370f14a",
   "metadata": {},
   "outputs": [
    {
     "name": "stdout",
     "output_type": "stream",
     "text": [
      "this is \n",
      "test string\n"
     ]
    },
    {
     "data": {
      "text/plain": [
       "'this is \\ntest string'"
      ]
     },
     "execution_count": 199,
     "metadata": {},
     "output_type": "execute_result"
    }
   ],
   "source": [
    "a= 'this is \\ntest string'\n",
    "print(a)\n",
    "a"
   ]
  },
  {
   "cell_type": "code",
   "execution_count": 203,
   "id": "3010c102-3d5d-4dd0-a567-6a835a405bf9",
   "metadata": {},
   "outputs": [
    {
     "name": "stdout",
     "output_type": "stream",
     "text": [
      "this is \ttest string\n"
     ]
    },
    {
     "data": {
      "text/plain": [
       "'this is \\ttest string'"
      ]
     },
     "execution_count": 203,
     "metadata": {},
     "output_type": "execute_result"
    }
   ],
   "source": [
    "b= 'this is \\ttest string'\n",
    "print(b)\n",
    "b"
   ]
  },
  {
   "cell_type": "code",
   "execution_count": 207,
   "id": "e9419ce2-9cd3-454e-8972-ed30303b2270",
   "metadata": {},
   "outputs": [
    {
     "name": "stdout",
     "output_type": "stream",
     "text": [
      "this is mtest string\n"
     ]
    },
    {
     "data": {
      "text/plain": [
       "'this is my\\x08test string'"
      ]
     },
     "execution_count": 207,
     "metadata": {},
     "output_type": "execute_result"
    }
   ],
   "source": [
    "a= 'this is my\\btest string'\n",
    "print(a)\n",
    "a"
   ]
  },
  {
   "cell_type": "code",
   "execution_count": 209,
   "id": "000db115-c8a1-429e-8135-1c32050a39fe",
   "metadata": {},
   "outputs": [
    {
     "name": "stdout",
     "output_type": "stream",
     "text": [
      "this is  test string\n"
     ]
    },
    {
     "data": {
      "text/plain": [
       "'this is  my\\x08\\x08test string'"
      ]
     },
     "execution_count": 209,
     "metadata": {},
     "output_type": "execute_result"
    }
   ],
   "source": [
    "a= 'this is  my\\b\\btest string'\n",
    "print(a)\n",
    "a"
   ]
  },
  {
   "cell_type": "code",
   "execution_count": 211,
   "id": "0fae88f7-3c98-40f5-b05f-333ea98427af",
   "metadata": {},
   "outputs": [
    {
     "name": "stdout",
     "output_type": "stream",
     "text": [
      "this is rohan's pen\n"
     ]
    },
    {
     "data": {
      "text/plain": [
       "\"this is rohan's pen\""
      ]
     },
     "execution_count": 211,
     "metadata": {},
     "output_type": "execute_result"
    }
   ],
   "source": [
    "a= 'this is rohan\\'s pen'\n",
    "print(a)\n",
    "a"
   ]
  },
  {
   "cell_type": "code",
   "execution_count": 213,
   "id": "a2068909-fadd-4614-95af-d9a1d32b98b1",
   "metadata": {},
   "outputs": [
    {
     "name": "stdout",
     "output_type": "stream",
     "text": [
      "this is test\n"
     ]
    }
   ],
   "source": [
    " a = 'this is test\\r'\n",
    "print(a)"
   ]
  },
  {
   "cell_type": "code",
   "execution_count": 225,
   "id": "6bf23110-5839-4c4b-afc4-86cfdbe6fbcc",
   "metadata": {},
   "outputs": [
    {
     "name": "stdout",
     "output_type": "stream",
     "text": [
      "RAMA is test\n"
     ]
    }
   ],
   "source": [
    "a= 'This is test\\rRAMA'\n",
    "print(a)\n"
   ]
  },
  {
   "cell_type": "code",
   "execution_count": 231,
   "id": "90e2de82-92d6-482d-ab1b-6a96425837b9",
   "metadata": {},
   "outputs": [],
   "source": [
    "#================= loop  ===============\n",
    "# for is for iteration of sequence data or collection data (both same )\n",
    "# in python like other language there is no need to initiate ,\n",
    "# a termination condition and increament or decrement for for loop . beacause it runs till compleation of iteration of \n",
    "# # for i in "
   ]
  },
  {
   "cell_type": "code",
   "execution_count": 239,
   "id": "ec46d6c3-729d-4075-a8d7-bda6a35daa65",
   "metadata": {},
   "outputs": [
    {
     "name": "stdout",
     "output_type": "stream",
     "text": [
      "ram\n",
      "shyam\n",
      "aayush\n",
      "rohit\n",
      "pankaj\n"
     ]
    }
   ],
   "source": [
    "l1 = ['ram', 'shyam','aayush','rohit' , 'pankaj']\n",
    "for i in l1:\n",
    "    print(i)"
   ]
  },
  {
   "cell_type": "code",
   "execution_count": 243,
   "id": "6c124955-605e-477a-939a-33bc0f2bd91d",
   "metadata": {},
   "outputs": [
    {
     "name": "stdout",
     "output_type": "stream",
     "text": [
      "I\n",
      " \n",
      "a\n",
      "m\n",
      " \n",
      "a\n",
      " \n",
      "g\n",
      "o\n",
      "o\n",
      "d\n",
      " \n",
      "b\n",
      "o\n",
      "y\n"
     ]
    }
   ],
   "source": [
    "l1 = 'I am a good boy'\n",
    "for i in l1:\n",
    "    print(i)"
   ]
  },
  {
   "cell_type": "code",
   "execution_count": 253,
   "id": "fda421e9-c500-41d7-b64d-3cdb042e6905",
   "metadata": {},
   "outputs": [
    {
     "name": "stdout",
     "output_type": "stream",
     "text": [
      "ram\n",
      "shyam\n",
      "aayush\n"
     ]
    }
   ],
   "source": [
    "l1 = ['ram', 'shyam','aayush','rohit' , 'pankaj']\n",
    "for i in l1:\n",
    "    if i=='rohit':\n",
    "        break\n",
    "    print(i)\n",
    "        \n",
    "    "
   ]
  },
  {
   "cell_type": "code",
   "execution_count": 257,
   "id": "883646af-06cc-4364-ab6e-96712d04f149",
   "metadata": {},
   "outputs": [
    {
     "name": "stdout",
     "output_type": "stream",
     "text": [
      "ram\n",
      "shyam\n",
      "aayush\n",
      "pankaj\n"
     ]
    }
   ],
   "source": [
    "l1 = ['ram', 'shyam','aayush','rohit' , 'pankaj']\n",
    "for i in l1:\n",
    "    if i=='rohit':\n",
    "        continue\n",
    "    print(i)"
   ]
  },
  {
   "cell_type": "code",
   "execution_count": 261,
   "id": "bf18c3a6-067f-4f20-a9c3-fd5cd78d5f7b",
   "metadata": {},
   "outputs": [
    {
     "data": {
      "text/plain": [
       "True"
      ]
     },
     "execution_count": 261,
     "metadata": {},
     "output_type": "execute_result"
    }
   ],
   "source": [
    "a= 'Dilip'\n",
    "'i' in a"
   ]
  },
  {
   "cell_type": "code",
   "execution_count": 265,
   "id": "1be87cdd-cf91-4d31-ace5-2bee35056894",
   "metadata": {},
   "outputs": [
    {
     "name": "stdout",
     "output_type": "stream",
     "text": [
      "<class 'str'>\n",
      "<class 'str'>\n",
      "<class 'str'>\n",
      "<class 'str'>\n",
      "<class 'str'>\n"
     ]
    }
   ],
   "source": [
    "for i in l1:\n",
    "    print(type(i))"
   ]
  },
  {
   "cell_type": "code",
   "execution_count": 287,
   "id": "b8344e55-6da1-48a8-b6bf-de7f3a7cd39c",
   "metadata": {},
   "outputs": [
    {
     "name": "stdout",
     "output_type": "stream",
     "text": [
      "mohan\n",
      "komal\n",
      "sarang\n"
     ]
    }
   ],
   "source": [
    "li1=['priya','khushi','pinky','mohan','komal','sarang']\n",
    "for i in li1:\n",
    "    if 'i' in i:\n",
    "        continue\n",
    "    print(i)\n",
    "        \n",
    "        \n"
   ]
  },
  {
   "cell_type": "code",
   "execution_count": 295,
   "id": "5e4943fc-d1f6-4a64-a518-b4af660bc17c",
   "metadata": {},
   "outputs": [
    {
     "name": "stdout",
     "output_type": "stream",
     "text": [
      "priya\n",
      "khushi\n",
      "pinky\n"
     ]
    }
   ],
   "source": [
    "li1=['priya','khushi','pinky','mohan','komal','sarang']\n",
    "for i in li1:\n",
    "    if 'i' in i:\n",
    "        print(i)\n",
    "        "
   ]
  },
  {
   "cell_type": "code",
   "execution_count": 301,
   "id": "993caa7b-397f-4c63-bf81-b65e9c85fdd2",
   "metadata": {},
   "outputs": [
    {
     "name": "stdout",
     "output_type": "stream",
     "text": [
      "mohan\n",
      "komal\n",
      "sarang\n"
     ]
    }
   ],
   "source": [
    "li1=['priya','khushi','pinky','mohan','komal','sarang']\n",
    "for i in li1:\n",
    "    if not 'i' in i:\n",
    "        print(i)\n",
    "        "
   ]
  },
  {
   "cell_type": "code",
   "execution_count": null,
   "id": "574cd150-7a1f-4abf-9ebe-f559f0e7d7bd",
   "metadata": {},
   "outputs": [
    {
     "name": "stdout",
     "output_type": "stream",
     "text": [
      "1\n",
      "2\n",
      "3\n",
      "4\n",
      "5\n",
      "6\n"
     ]
    }
   ],
   "source": [
    "#==============while loop==============\n",
    "\n",
    "a=1\n",
    "while a<11:\n",
    "    if a==7:\n",
    "        continue\n",
    "    print(a)\n",
    "    a+=1\n"
   ]
  },
  {
   "cell_type": "code",
   "execution_count": 5,
   "id": "86f2aa97-6f93-4995-8c54-8a16c2948c9f",
   "metadata": {},
   "outputs": [
    {
     "name": "stdout",
     "output_type": "stream",
     "text": [
      "1\n",
      "2\n",
      "3\n",
      "4\n",
      "5\n",
      "6\n",
      "8\n",
      "9\n",
      "10\n",
      "11\n"
     ]
    }
   ],
   "source": [
    "a=0\n",
    "while a<11:\n",
    "    a+=1\n",
    "    if a==7:\n",
    "        continue\n",
    "    print(a)\n",
    "    "
   ]
  },
  {
   "cell_type": "code",
   "execution_count": null,
   "id": "ae695b14-434e-4049-8ae6-7dffbc7ae48b",
   "metadata": {},
   "outputs": [],
   "source": []
  }
 ],
 "metadata": {
  "kernelspec": {
   "display_name": "Python 3 (ipykernel)",
   "language": "python",
   "name": "python3"
  },
  "language_info": {
   "codemirror_mode": {
    "name": "ipython",
    "version": 3
   },
   "file_extension": ".py",
   "mimetype": "text/x-python",
   "name": "python",
   "nbconvert_exporter": "python",
   "pygments_lexer": "ipython3",
   "version": "3.11.5"
  }
 },
 "nbformat": 4,
 "nbformat_minor": 5
}
