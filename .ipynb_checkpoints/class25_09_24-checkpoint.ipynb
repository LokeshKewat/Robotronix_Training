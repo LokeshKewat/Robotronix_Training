{
 "cells": [
  {
   "cell_type": "code",
   "execution_count": 5,
   "id": "f3549748-ab08-4dfb-b92a-7276ac455939",
   "metadata": {},
   "outputs": [
    {
     "name": "stdout",
     "output_type": "stream",
     "text": [
      "140723672297544\n",
      "140723672297544\n",
      "140723672297544\n"
     ]
    }
   ],
   "source": [
    "a=234\n",
    "b=234\n",
    "c=234\n",
    "print(id(a))\n",
    "print(id(b))\n",
    "print(id(c))\n",
    "#first store the value in the memory and the assign to variable as a refernce\n",
    "#same data ko same memory location per store karta he\n",
    "# id function tells the memory location of the data\n",
    "# sometimes in the jupyter the refence value may be change"
   ]
  },
  {
   "cell_type": "code",
   "execution_count": null,
   "id": "d3deeb55-763f-4ece-ba00-22f048cc568d",
   "metadata": {},
   "outputs": [],
   "source": [
    "#python stores large amount of data in a single variable compare to another language\n",
    "#"
   ]
  },
  {
   "cell_type": "code",
   "execution_count": 11,
   "id": "d6008337-d648-44ec-a0bf-293f19215709",
   "metadata": {},
   "outputs": [
    {
     "name": "stdout",
     "output_type": "stream",
     "text": [
      "140723670821408\n",
      "140723670821408\n",
      "140723670821408\n"
     ]
    }
   ],
   "source": [
    "a=True\n",
    "b=True\n",
    "c=True\n",
    "print(id(a))\n",
    "print(id(b))\n",
    "print(id(c))\n",
    "# exception reason : jupyter is a third party kernel that executes data in \n"
   ]
  },
  {
   "cell_type": "code",
   "execution_count": 17,
   "id": "727160aa-e17e-4f64-9df7-2b499a057884",
   "metadata": {},
   "outputs": [
    {
     "name": "stdout",
     "output_type": "stream",
     "text": [
      "1931320650240\n",
      "1931294138944\n",
      "1931320650816\n"
     ]
    }
   ],
   "source": [
    "x=[2,3]\n",
    "y=[2,3]\n",
    "z=[2,3]\n",
    "print(id(x))\n",
    "print(id(y))\n",
    "print(id(z))\n",
    "\n"
   ]
  },
  {
   "cell_type": "code",
   "execution_count": 23,
   "id": "89a70d61-3f3a-4a64-9720-47f8807cfa40",
   "metadata": {},
   "outputs": [
    {
     "name": "stdout",
     "output_type": "stream",
     "text": [
      "1931320501056\n",
      "1931320498688\n",
      "1931320493568\n"
     ]
    }
   ],
   "source": [
    "x=(2,3)\n",
    "y=(2,3)\n",
    "z=(2,3)\n",
    "print(id(x))\n",
    "print(id(y))\n",
    "print(id(z))"
   ]
  },
  {
   "cell_type": "code",
   "execution_count": 27,
   "id": "94e04906-009e-42bb-80ad-156112e053fa",
   "metadata": {},
   "outputs": [
    {
     "name": "stdout",
     "output_type": "stream",
     "text": [
      "1931320367744\n",
      "1931320369312\n",
      "1931320366848\n"
     ]
    }
   ],
   "source": [
    "x=frozenset((2,3))\n",
    "y=frozenset((2,3))\n",
    "z=frozenset((2,3))\n",
    "print(id(x))\n",
    "print(id(y))\n",
    "print(id(z))"
   ]
  },
  {
   "cell_type": "code",
   "execution_count": 29,
   "id": "075d7467-ae33-439d-bbf0-887e95a5bb11",
   "metadata": {},
   "outputs": [],
   "source": [
    "# list - []\n",
    "#tuple - ()\n",
    "#dict - {}\n",
    "#set - {minimum one value}\n",
    "#frozenset - frozenset((2,4))"
   ]
  },
  {
   "cell_type": "code",
   "execution_count": 35,
   "id": "abadc7ce-a5bc-47a7-85d6-cbd32f1fd919",
   "metadata": {},
   "outputs": [
    {
     "name": "stdout",
     "output_type": "stream",
     "text": [
      "[2, 3, 4, 5]\n",
      "list[2, 3, 4, 5]\n"
     ]
    }
   ],
   "source": [
    "li1=[2,3,4,5]\n",
    "li2=list[2,3,4,5]\n",
    "print(li1)\n",
    "print(li2)"
   ]
  },
  {
   "cell_type": "code",
   "execution_count": 53,
   "id": "2319014f-5287-42ce-adee-2aa02d8e21fa",
   "metadata": {},
   "outputs": [
    {
     "data": {
      "text/plain": [
       "tuple"
      ]
     },
     "execution_count": 53,
     "metadata": {},
     "output_type": "execute_result"
    }
   ],
   "source": [
    " t=(2,)\n",
    " type(t)\n",
    "# create a sible element tuple we must use , after element\n",
    "t2=tuple()\n",
    "type(t2)\n",
    "# alternative method of declaring a single element tuple"
   ]
  },
  {
   "cell_type": "code",
   "execution_count": 2,
   "id": "68a360fc-3497-42f0-b565-a16eaff95670",
   "metadata": {},
   "outputs": [],
   "source": [
    "# in the set no repetition allowed\n",
    "# remove duplicate element\n",
    "# implicit me data loss nahi hota \n"
   ]
  },
  {
   "cell_type": "code",
   "execution_count": 12,
   "id": "cd2b157a-1714-44bf-8e8b-e67b66e08ad6",
   "metadata": {},
   "outputs": [
    {
     "name": "stdout",
     "output_type": "stream",
     "text": [
      "1==1\n",
      "3==3\n",
      "5==5\n",
      "7!=3\n",
      "9!=6\n"
     ]
    }
   ],
   "source": [
    "list1 = [1,3,5,7,9]\n",
    "list2 = [1,3,5,3,6]\n",
    "for a,b in zip(list1,list2):\n",
    "    if a==b:\n",
    "        print(f\"{a}=={b}\")\n",
    "    else:\n",
    "        print(f\"{a}!={b}\")\n",
    "        "
   ]
  },
  {
   "cell_type": "code",
   "execution_count": null,
   "id": "4bb6df22-9897-4070-93ae-2377ad0f9019",
   "metadata": {},
   "outputs": [],
   "source": [
    "#python me input string type hota he\n"
   ]
  }
 ],
 "metadata": {
  "kernelspec": {
   "display_name": "Python 3 (ipykernel)",
   "language": "python",
   "name": "python3"
  },
  "language_info": {
   "codemirror_mode": {
    "name": "ipython",
    "version": 3
   },
   "file_extension": ".py",
   "mimetype": "text/x-python",
   "name": "python",
   "nbconvert_exporter": "python",
   "pygments_lexer": "ipython3",
   "version": "3.11.5"
  }
 },
 "nbformat": 4,
 "nbformat_minor": 5
}
