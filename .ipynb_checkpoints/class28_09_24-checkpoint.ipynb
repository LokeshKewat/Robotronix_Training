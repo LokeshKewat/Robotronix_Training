{
 "cells": [
  {
   "cell_type": "code",
   "execution_count": 2,
   "id": "bcf9c868-8654-4fe9-8b9c-99c48f950ce1",
   "metadata": {},
   "outputs": [],
   "source": [
    "#===========loop practice questions =================#"
   ]
  },
  {
   "cell_type": "code",
   "execution_count": 6,
   "id": "3060ec3d-12c0-41a5-bc2d-58225bb0af9f",
   "metadata": {},
   "outputs": [],
   "source": [
    "#=============== for Loop============================="
   ]
  },
  {
   "cell_type": "code",
   "execution_count": 16,
   "id": "209c3be2-8c6f-4106-b55b-bf1406cdff49",
   "metadata": {},
   "outputs": [
    {
     "name": "stdout",
     "output_type": "stream",
     "text": [
      "1\n",
      "2\n",
      "3\n",
      "4\n",
      "5\n",
      "6\n",
      "7\n",
      "this loop is compleated\n"
     ]
    }
   ],
   "source": [
    "for i in range(1,11):\n",
    "    print(i)\n",
    "    if i%7==0:\n",
    "        break\n",
    "        print(i)\n",
    "else:\n",
    "    print('loop is compleate')\n",
    "print('this loop is compleated')"
   ]
  },
  {
   "cell_type": "code",
   "execution_count": 20,
   "id": "fac30131-56c6-4688-b485-92d1b629fb4a",
   "metadata": {},
   "outputs": [
    {
     "name": "stdout",
     "output_type": "stream",
     "text": [
      "1\n",
      "2\n",
      "3\n",
      "4\n",
      "5\n",
      "6\n",
      "7\n",
      "8\n",
      "9\n",
      "10\n",
      "loop is compleate\n",
      "this loop is compleated\n"
     ]
    }
   ],
   "source": [
    "for i in range(1,11):\n",
    "    print(i)\n",
    "    # if i%7==0:\n",
    "    #     break\n",
    "    #     print(i)\n",
    "else:\n",
    "    print('loop is compleate')\n",
    "print('this loop is compleated')"
   ]
  },
  {
   "cell_type": "code",
   "execution_count": 22,
   "id": "e8595618-6b9d-4278-bf30-2ecf83d05547",
   "metadata": {},
   "outputs": [],
   "source": [
    "# Note: if all itereation of for loop is compleated without any break then else will be executes oterwise not."
   ]
  },
  {
   "cell_type": "code",
   "execution_count": 36,
   "id": "634232b8-0469-401e-85be-5fa1fa4b23ef",
   "metadata": {},
   "outputs": [
    {
     "name": "stdout",
     "output_type": "stream",
     "text": [
      "3\n",
      "5\n",
      "7\n",
      "11\n",
      "13\n",
      "17\n",
      "19\n"
     ]
    }
   ],
   "source": [
    "# number is prime or not\n",
    "for i in range(3,21):\n",
    "    for j in range(2,i):\n",
    "        if i%j==0:\n",
    "            break\n",
    "    else:\n",
    "        print(i)"
   ]
  },
  {
   "cell_type": "code",
   "execution_count": null,
   "id": "cd5778bf-d5b5-40e8-a403-741928db24dd",
   "metadata": {},
   "outputs": [],
   "source": [
    "# i=int(input(\"enter a number\"))\n",
    "# for j in range(2,i):\n",
    "#         if i%j==0:\n",
    "#             print(\"not prime\")\n",
    "#             break\n",
    "# else:\n",
    "#         print(\"prime\")"
   ]
  },
  {
   "cell_type": "code",
   "execution_count": null,
   "id": "b09fe5ff-c4ee-405a-b7fe-bbfd984657a4",
   "metadata": {},
   "outputs": [],
   "source": [
    "n=1\n",
    "while n<11:\n",
    "    if n==5:\n",
    "        break\n",
    "        print(n)\n",
    "        n+=1\n",
    "else:\n",
    "    print(\"while loop is compleated\")\n",
    "print(\"this is a normal print\")"
   ]
  },
  {
   "cell_type": "code",
   "execution_count": 3,
   "id": "55db5fcf-c863-4149-abe0-d14850dcfee0",
   "metadata": {},
   "outputs": [
    {
     "name": "stdin",
     "output_type": "stream",
     "text": [
      "enter a number you want to table: 12\n",
      "enter number upto print: 15\n"
     ]
    }
   ],
   "source": [
    "n = int(input('enter a number you want to table:'))\n",
    "r =int(input(\"enter number upto print:\"))\n",
    "i=1\n",
    "while i in range(n,r):\n",
    "    print(n,\"X\",i,\"=\",n*i)\n",
    "    "
   ]
  },
  {
   "cell_type": "code",
   "execution_count": 9,
   "id": "5fb733c4-f37c-4973-90eb-84fe397a6211",
   "metadata": {},
   "outputs": [
    {
     "name": "stdin",
     "output_type": "stream",
     "text": [
      "enter a number you want to table: 2\n"
     ]
    },
    {
     "name": "stdout",
     "output_type": "stream",
     "text": [
      "2 X 1 = 2\n",
      "2 X 2 = 4\n",
      "2 X 3 = 6\n",
      "2 X 4 = 8\n",
      "2 X 5 = 10\n",
      "2 X 6 = 12\n",
      "2 X 7 = 14\n",
      "2 X 8 = 16\n",
      "2 X 9 = 18\n",
      "2 X 10 = 20\n",
      "2 X 11 = 22\n",
      "2 X 12 = 24\n",
      "2 X 13 = 26\n",
      "2 X 14 = 28\n",
      "2 X 15 = 30\n"
     ]
    }
   ],
   "source": [
    "n = int(input('enter a number you want to table:'))\n",
    "i=1\n",
    "while i <=15:\n",
    "    print(n,\"X\",i,\"=\",n*i)\n",
    "    i+=1\n",
    "    "
   ]
  },
  {
   "cell_type": "code",
   "execution_count": null,
   "id": "42acec72-96b6-4abb-8dde-548e2f9b5b57",
   "metadata": {},
   "outputs": [],
   "source": [
    "n = int(input('enter a number you want to table:'))\n",
    "i=1\n",
    "while i<=15:\n",
    "    a=n*i\n",
    "    if a%10==5 or a%10==7:\n",
    "        print(n,\"x\",i,\"=\",n*i)\n",
    "    i+=1\n",
    "        \n",
    "    \n",
    "   \n",
    "    "
   ]
  },
  {
   "cell_type": "code",
   "execution_count": 27,
   "id": "a88f6e35-20bd-4574-9271-5c13c7445ba9",
   "metadata": {},
   "outputs": [
    {
     "name": "stdout",
     "output_type": "stream",
     "text": [
      "2\n",
      "4\n",
      "6\n",
      "8\n",
      "loop compleated\n"
     ]
    }
   ],
   "source": [
    "for i in range(1,10):\n",
    "    if i%2==0:\n",
    "        print(i)\n",
    "else:\n",
    "    print(\"loop compleated\")\n",
    "    "
   ]
  },
  {
   "cell_type": "code",
   "execution_count": 33,
   "id": "adb634c8-88a0-4dd7-9f0d-488b2a611907",
   "metadata": {},
   "outputs": [
    {
     "name": "stdout",
     "output_type": "stream",
     "text": [
      "even= 5\n",
      "odd= 5\n"
     ]
    }
   ],
   "source": [
    "eve= 0\n",
    "odd =0\n",
    "n=1\n",
    "while n<=10:\n",
    "    if n%2==0:\n",
    "        eve+=1\n",
    "    else:\n",
    "        odd+=1\n",
    "    n+=1\n",
    "print('even=' , eve)\n",
    "print('odd=' , odd)"
   ]
  },
  {
   "cell_type": "code",
   "execution_count": null,
   "id": "ea44fc0f-a38f-4c83-916c-490c750939eb",
   "metadata": {},
   "outputs": [],
   "source": [
    "n=0\n",
    "n1=1\n"
   ]
  },
  {
   "cell_type": "code",
   "execution_count": 24,
   "id": "79091c8a-ed27-44b0-8ad8-f28791be09ab",
   "metadata": {},
   "outputs": [
    {
     "name": "stdout",
     "output_type": "stream",
     "text": [
      "[100000, 90000, 100000, 200000, 50000, 100000, 50000, 70000, 50000, 50000, 50000, 50000, 50000]\n"
     ]
    }
   ],
   "source": [
    "salary=[100000,90000,100000,200000,50000,100000,50000,70000,50000,50000,50000,50000,50000]\n",
    "print(salary)\n",
    "        "
   ]
  },
  {
   "cell_type": "code",
   "execution_count": 60,
   "id": "3396a1d1-822c-4acd-9e39-fa9bd98c2d94",
   "metadata": {},
   "outputs": [
    {
     "name": "stdin",
     "output_type": "stream",
     "text": [
      "enter number of employees 5\n",
      "enter salary of employee 1= 100\n",
      "enter salary of employee 2= 23\n",
      "enter salary of employee 3= 465\n",
      "enter salary of employee 4= 76\n",
      "enter salary of employee 5= 80\n"
     ]
    },
    {
     "name": "stdout",
     "output_type": "stream",
     "text": [
      "average salary = 148.8\n",
      " greater than averagem= 0\n",
      "less than average =  80\n",
      "exact average salary = 0\n"
     ]
    }
   ],
   "source": [
    "num_employees=int(input(\"enter number of employees\"))\n",
    "total_salary=0\n",
    "for i in range(num_employees):\n",
    "    salary=int(input(f\"enter salary of employee {i+1}=\"))\n",
    "    total_salary+=salary\n",
    "    i+=1\n",
    "average_salary=total_salary/num_employees\n",
    "print(\"average salary =\",average_salary)"
   ]
  },
  {
   "cell_type": "code",
   "execution_count": 63,
   "id": "50e5f1b3-9b0f-49cf-8343-b6331be60a11",
   "metadata": {},
   "outputs": [
    {
     "name": "stdout",
     "output_type": "stream",
     "text": [
      "80\n"
     ]
    }
   ],
   "source": [
    "print(salary)"
   ]
  }
 ],
 "metadata": {
  "kernelspec": {
   "display_name": "Python 3 (ipykernel)",
   "language": "python",
   "name": "python3"
  },
  "language_info": {
   "codemirror_mode": {
    "name": "ipython",
    "version": 3
   },
   "file_extension": ".py",
   "mimetype": "text/x-python",
   "name": "python",
   "nbconvert_exporter": "python",
   "pygments_lexer": "ipython3",
   "version": "3.11.5"
  }
 },
 "nbformat": 4,
 "nbformat_minor": 5
}
