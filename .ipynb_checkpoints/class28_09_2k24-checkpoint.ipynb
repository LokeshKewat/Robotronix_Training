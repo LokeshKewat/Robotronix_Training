{
 "cells": [
  {
   "cell_type": "code",
   "execution_count": 1,
   "id": "875e0a95-314f-40ae-88c1-834c57c0a0e9",
   "metadata": {},
   "outputs": [],
   "source": [
    "#====== declaration of string==========="
   ]
  },
  {
   "cell_type": "code",
   "execution_count": 15,
   "id": "2181ba48-b216-4394-9860-981e3163c8ca",
   "metadata": {},
   "outputs": [
    {
     "name": "stdout",
     "output_type": "stream",
     "text": [
      "string1\n",
      "string2\n",
      " multiple line \n",
      "string with single triple quotes\n",
      " multiple line \n",
      "string with single triple quotes\n",
      "string1with back slash\n"
     ]
    }
   ],
   "source": [
    "# method 1\n",
    "st1= 'string1'\n",
    "# method 2\n",
    "st2= \"string2\"\n",
    "# method 3\n",
    "st3=''' multiple line \n",
    "string with single triple quotes'''\n",
    "# method 4\n",
    "st4=\"\"\" multiple line \n",
    "string with single triple quotes\"\"\"\n",
    "# method 5\n",
    "st5='string1\\\n",
    "with back slash'\n",
    "print(st1)\n",
    "print(st2)\n",
    "print(st3)\n",
    "print(st4)\n",
    "print(st5)"
   ]
  },
  {
   "cell_type": "code",
   "execution_count": 23,
   "id": "8867c803-426f-4dbb-aea4-e49a2ca80c91",
   "metadata": {},
   "outputs": [
    {
     "name": "stdout",
     "output_type": "stream",
     "text": [
      "string1@string2@ multiple line \n",
      "string with single triple quotes@ multiple line \n",
      "string with single triple quotes@string1with back slash jay mata di "
     ]
    }
   ],
   "source": [
    "print(st1,st2,st3,st4,st5,sep='@',end=' jay mata di ')"
   ]
  },
  {
   "cell_type": "code",
   "execution_count": 29,
   "id": "8bf27cbc-283f-4a9a-a945-4e4624ec1148",
   "metadata": {},
   "outputs": [
    {
     "name": "stdout",
     "output_type": "stream",
     "text": [
      "hello\n"
     ]
    }
   ],
   "source": [
    "'''this is a \n",
    "multiline \n",
    "comment'''\n",
    "a='hello'\n",
    "print(a)"
   ]
  },
  {
   "cell_type": "code",
   "execution_count": 33,
   "id": "7931a351-9671-4832-9bec-2c6245d51d03",
   "metadata": {},
   "outputs": [
    {
     "name": "stdout",
     "output_type": "stream",
     "text": [
      "hello\n"
     ]
    }
   ],
   "source": [
    "\"\"\"this is a \n",
    "multiline \n",
    "comment\"\"\"\n",
    "a='hello'\n",
    "print(a)"
   ]
  },
  {
   "cell_type": "code",
   "execution_count": 45,
   "id": "b245fc4b-b8cc-45f6-b52f-2f37776013ee",
   "metadata": {},
   "outputs": [
    {
     "name": "stdout",
     "output_type": "stream",
     "text": [
      "Return a capitalized version of the string.\n",
      "\n",
      "More specifically, make the first character have upper case and the rest lower\n",
      "case.\n",
      "Lokesh kewat\n"
     ]
    }
   ],
   "source": [
    "a='lokesh kewat'\n",
    "a=a.capitalize()\n",
    "print(a.capitalize.__doc__)\n",
    "print(a)\n"
   ]
  },
  {
   "cell_type": "code",
   "execution_count": 49,
   "id": "3289cd21-5d93-4e47-bdfe-765e2484dd21",
   "metadata": {},
   "outputs": [
    {
     "name": "stdout",
     "output_type": "stream",
     "text": [
      "Return a centered string of length width.\n",
      "\n",
      "Padding is done using the specified fill character (default is a space).\n"
     ]
    }
   ],
   "source": [
    "print(a.center.__doc__)"
   ]
  },
  {
   "cell_type": "code",
   "execution_count": 55,
   "id": "1f290a0b-710b-47a7-93fd-c2575fac52ce",
   "metadata": {},
   "outputs": [
    {
     "name": "stdout",
     "output_type": "stream",
     "text": [
      "Ram\n",
      "%%%%%%%      Ram      %%%%%%%%\n"
     ]
    }
   ],
   "source": [
    "a='Ram'\n",
    "print(a)\n",
    "a=a.center(15)\n",
    "a=a.center(30,'%')\n",
    "print(a)"
   ]
  },
  {
   "cell_type": "code",
   "execution_count": 59,
   "id": "556037c7-12d0-46d5-bd97-f01f625f6d69",
   "metadata": {},
   "outputs": [
    {
     "name": "stdout",
     "output_type": "stream",
     "text": [
      "Ram\n",
      "%%%%%%%%%%%%%Ram%%%%%%%%%%%%%%\n"
     ]
    }
   ],
   "source": [
    "a='Ram'\n",
    "print(a)\n",
    "a=a.center(30,'%')\n",
    "print(a)"
   ]
  },
  {
   "cell_type": "code",
   "execution_count": 6,
   "id": "9ca9f454-aa44-459b-9150-4c874389698a",
   "metadata": {},
   "outputs": [],
   "source": [
    "# dir(str)"
   ]
  },
  {
   "cell_type": "code",
   "execution_count": 107,
   "id": "6c18f94b-36e2-48e8-9a12-94733222f4c4",
   "metadata": {},
   "outputs": [
    {
     "name": "stdout",
     "output_type": "stream",
     "text": [
      "S.count(sub[, start[, end]]) -> int\n",
      "\n",
      "Return the number of non-overlapping occurrences of substring sub in\n",
      "string S[start:end].  Optional arguments start and end are\n",
      "interpreted as in slice notation.\n"
     ]
    }
   ],
   "source": [
    "a= 'this is a my book and i never want to give you is'\n",
    "print(a.count.__doc__)"
   ]
  },
  {
   "cell_type": "code",
   "execution_count": 113,
   "id": "04468dc3-7d0c-4ffe-b82c-0a9f2e043604",
   "metadata": {},
   "outputs": [
    {
     "data": {
      "text/plain": [
       "3"
      ]
     },
     "execution_count": 113,
     "metadata": {},
     "output_type": "execute_result"
    }
   ],
   "source": [
    "a.count('is')\n"
   ]
  },
  {
   "cell_type": "code",
   "execution_count": 77,
   "id": "7935abf1-884c-488d-a131-d260e5657d36",
   "metadata": {},
   "outputs": [
    {
     "name": "stdout",
     "output_type": "stream",
     "text": [
      "S.find(sub[, start[, end]]) -> int\n",
      "\n",
      "Return the lowest index in S where substring sub is found,\n",
      "such that sub is contained within S[start:end].  Optional\n",
      "arguments start and end are interpreted as in slice notation.\n",
      "\n",
      "Return -1 on failure.\n"
     ]
    }
   ],
   "source": [
    "print(a.find.__doc__)"
   ]
  },
  {
   "cell_type": "code",
   "execution_count": 99,
   "id": "0f31dc77-c25f-4bc1-a27b-a8d04ddc60fd",
   "metadata": {},
   "outputs": [
    {
     "data": {
      "text/plain": [
       "2"
      ]
     },
     "execution_count": 99,
     "metadata": {},
     "output_type": "execute_result"
    }
   ],
   "source": [
    "a.find('is')"
   ]
  },
  {
   "cell_type": "code",
   "execution_count": 101,
   "id": "7cabf02e-b9c4-419d-bc91-d6cf75693ada",
   "metadata": {},
   "outputs": [],
   "source": [
    "a= 'this is a my book and i never want to give you is this your book not my'\n",
    "#find method returns the index number of first occurance of the string\n"
   ]
  },
  {
   "cell_type": "code",
   "execution_count": 117,
   "id": "87a17cea-87ec-4e5e-8b92-4ed1b18ab878",
   "metadata": {},
   "outputs": [
    {
     "name": "stdout",
     "output_type": "stream",
     "text": [
      "S.index(sub[, start[, end]]) -> int\n",
      "\n",
      "Return the lowest index in S where substring sub is found,\n",
      "such that sub is contained within S[start:end].  Optional\n",
      "arguments start and end are interpreted as in slice notation.\n",
      "\n",
      "Raises ValueError when the substring is not found.\n"
     ]
    }
   ],
   "source": [
    "print(a.index.__doc__)"
   ]
  },
  {
   "cell_type": "code",
   "execution_count": 8,
   "id": "81179602-53ed-4377-b2a0-574ced731bbb",
   "metadata": {},
   "outputs": [
    {
     "name": "stdout",
     "output_type": "stream",
     "text": [
      "this is a testing comment\n"
     ]
    }
   ],
   "source": [
    "x='This is my pen and pencil is This your'\n",
    "x.index('This')\n",
    "x.index('pen')\n",
    "\n"
   ]
  },
  {
   "cell_type": "code",
   "execution_count": null,
   "id": "a8ffd648-1b70-4151-9e69-b493e268b328",
   "metadata": {},
   "outputs": [],
   "source": []
  }
 ],
 "metadata": {
  "kernelspec": {
   "display_name": "Python 3 (ipykernel)",
   "language": "python",
   "name": "python3"
  },
  "language_info": {
   "codemirror_mode": {
    "name": "ipython",
    "version": 3
   },
   "file_extension": ".py",
   "mimetype": "text/x-python",
   "name": "python",
   "nbconvert_exporter": "python",
   "pygments_lexer": "ipython3",
   "version": "3.11.5"
  }
 },
 "nbformat": 4,
 "nbformat_minor": 5
}
