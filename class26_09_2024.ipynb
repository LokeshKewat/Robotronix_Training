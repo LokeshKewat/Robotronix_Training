{
 "cells": [
  {
   "cell_type": "code",
   "execution_count": 3,
   "id": "90ff7c2e-5596-41aa-a5ce-c4b6cdb76bd0",
   "metadata": {},
   "outputs": [
    {
     "name": "stdout",
     "output_type": "stream",
     "text": [
      "['apple', 'banana', 'cherry']\n",
      "['apple', 'banana', 'cherry', 'orange', 'guava', 'tomato', 'potato', 'brinjal', 'cabage']\n",
      "['apple', 'banana', 'cherry', 'orange', 'guava', 'tomato', 'potato', 'brinjal', 'cabage', 'lichi']\n"
     ]
    }
   ],
   "source": [
    "# list is a collection which is ordered and changable. in python lists are written in th esquare berakets\n",
    "li1=['apple', 'banana','cherry','orange','guava']\n",
    "li2=['tomato','potato','brinjal','cabage']\n",
    "print(li1[0:3])\n",
    "li1.extend(li2)\n",
    "print(li1)\n",
    "li1.append('lichi')\n",
    "print(li1)"
   ]
  },
  {
   "cell_type": "code",
   "execution_count": 15,
   "id": "852b9504-f86c-4fb1-abb9-713eca435881",
   "metadata": {},
   "outputs": [
    {
     "name": "stdout",
     "output_type": "stream",
     "text": [
      "['apple', 'banana', 'watermelon', 'cherry', 'orange', 'guava', 'tomato', 'potato', 'brinjal', 'cabage', 'lichi']\n"
     ]
    }
   ],
   "source": [
    "li1.insert(2,'watermelon')\n",
    "print(li1)"
   ]
  },
  {
   "cell_type": "code",
   "execution_count": 11,
   "id": "512ccbdb-c48b-4a8b-97f7-27dd92413eef",
   "metadata": {},
   "outputs": [
    {
     "name": "stdout",
     "output_type": "stream",
     "text": [
      "1\n"
     ]
    }
   ],
   "source": [
    "print(li1.index(\"banana\"))\n"
   ]
  },
  {
   "cell_type": "code",
   "execution_count": 26,
   "id": "3d2dc64d-9076-41ea-8130-9a6666b1b8bd",
   "metadata": {},
   "outputs": [
    {
     "name": "stdout",
     "output_type": "stream",
     "text": [
      "['apple', 'banana', 'cherry', 'orange', 'guava']\n"
     ]
    }
   ],
   "source": [
    "li3=['apple', 'banana','cherry','orange','watermelon','guava']\n",
    "li3.remove(\"watermelon\")\n",
    "print(li3)"
   ]
  },
  {
   "cell_type": "code",
   "execution_count": 30,
   "id": "b3d089fd-5339-4a1c-b8ec-1b21e64243fb",
   "metadata": {},
   "outputs": [
    {
     "name": "stdout",
     "output_type": "stream",
     "text": [
      "['apple', 'banana', 'cherry']\n"
     ]
    }
   ],
   "source": [
    "del li3[3]\n",
    "print(li3)"
   ]
  },
  {
   "cell_type": "raw",
   "id": "72c27f3d-ab1c-4c3d-bbf2-bb38cd5fcdbb",
   "metadata": {},
   "source": [
    "li3.clear()\n",
    "print(li3)"
   ]
  },
  {
   "cell_type": "code",
   "execution_count": 32,
   "id": "8077538e-d557-4042-af7d-a64cc73efabe",
   "metadata": {},
   "outputs": [
    {
     "name": "stdout",
     "output_type": "stream",
     "text": [
      "[]\n",
      "<class 'list'>\n"
     ]
    }
   ],
   "source": [
    "li3.clear()\n",
    "print(li3)\n",
    "print(type(li3))"
   ]
  },
  {
   "cell_type": "code",
   "execution_count": 25,
   "id": "e4f7311d-dd57-4212-a29d-dd27229b7454",
   "metadata": {},
   "outputs": [
    {
     "name": "stdout",
     "output_type": "stream",
     "text": [
      "['a', 'b', 'c', 'd', 2, 3, 5, 67]\n",
      "['a', 'b', 'c', 'd']\n"
     ]
    }
   ],
   "source": [
    "l1=['a','b','c','d']\n",
    "l2=[2,3,5,67]\n",
    "print(l1+l2)\n",
    "\n",
    "print(l1.copy())"
   ]
  },
  {
   "cell_type": "code",
   "execution_count": 45,
   "id": "2dae9b67-c2bd-4729-9f51-340d9bd4be2c",
   "metadata": {},
   "outputs": [
    {
     "name": "stdout",
     "output_type": "stream",
     "text": [
      "[5, 6, 8, 7, 56, 4, 2]\n"
     ]
    }
   ],
   "source": [
    "list1 = [2,4,56,7,8,6,5]\n",
    "list1.reverse()\n",
    "print(list1)"
   ]
  },
  {
   "cell_type": "code",
   "execution_count": 55,
   "id": "ab992d4b-3180-407a-96b5-aa3016da9fab",
   "metadata": {},
   "outputs": [
    {
     "name": "stdout",
     "output_type": "stream",
     "text": [
      "[2, 4, 5, 6, 7, 8, 56]\n",
      "7\n"
     ]
    }
   ],
   "source": [
    "list1.sort()\n",
    "print(list1)\n",
    "print(len(list1))"
   ]
  },
  {
   "cell_type": "code",
   "execution_count": 75,
   "id": "aa3fc544-884b-42db-b594-31eeb24d7d43",
   "metadata": {},
   "outputs": [
    {
     "name": "stdout",
     "output_type": "stream",
     "text": [
      "{'friday', 'wednesday', 'monday', 'thirsday'}\n"
     ]
    }
   ],
   "source": [
    "s1={'monday','tuesday','wednesday','thirsday','friday'}\n",
    "s1.discard('saturday')\n",
    "s1.remove('tuesday')\n",
    "print(s1)"
   ]
  },
  {
   "cell_type": "code",
   "execution_count": 87,
   "id": "dbcee8b1-65f1-405e-a353-7fb7e41f1aa3",
   "metadata": {},
   "outputs": [
    {
     "name": "stdout",
     "output_type": "stream",
     "text": [
      "{'bird': 'flying', 'dog': 'walking', 'monkey': 'climing'}\n",
      "walking\n",
      "walking\n"
     ]
    }
   ],
   "source": [
    "thisdisc= {\n",
    "    \"bird\":\"flying\",\n",
    "    \"dog\" :\"walking\",\n",
    "    \"monkey\":\"climing\"\n",
    "}\n",
    "print(thisdisc)\n",
    "print(thisdisc[\"dog\"])\n",
    "print(thisdisc.get(\"dog\"))"
   ]
  },
  {
   "cell_type": "code",
   "execution_count": 93,
   "id": "0e1ca5dc-c79c-4312-8ff7-9040de86be6c",
   "metadata": {},
   "outputs": [
    {
     "name": "stdout",
     "output_type": "stream",
     "text": [
      "{'bird': 'flying', 'dog': 'walking', 'monkey': 'running'}\n"
     ]
    }
   ],
   "source": [
    "thisdisc[\"monkey\"]=\"running\"\n",
    "print(thisdisc)"
   ]
  },
  {
   "cell_type": "code",
   "execution_count": 6,
   "id": "7d867c90-834b-4d5c-a321-500b93aff80f",
   "metadata": {},
   "outputs": [
    {
     "data": {
      "text/plain": [
       "['__class__',\n",
       " '__class_getitem__',\n",
       " '__contains__',\n",
       " '__delattr__',\n",
       " '__delitem__',\n",
       " '__dir__',\n",
       " '__doc__',\n",
       " '__eq__',\n",
       " '__format__',\n",
       " '__ge__',\n",
       " '__getattribute__',\n",
       " '__getitem__',\n",
       " '__getstate__',\n",
       " '__gt__',\n",
       " '__hash__',\n",
       " '__init__',\n",
       " '__init_subclass__',\n",
       " '__ior__',\n",
       " '__iter__',\n",
       " '__le__',\n",
       " '__len__',\n",
       " '__lt__',\n",
       " '__ne__',\n",
       " '__new__',\n",
       " '__or__',\n",
       " '__reduce__',\n",
       " '__reduce_ex__',\n",
       " '__repr__',\n",
       " '__reversed__',\n",
       " '__ror__',\n",
       " '__setattr__',\n",
       " '__setitem__',\n",
       " '__sizeof__',\n",
       " '__str__',\n",
       " '__subclasshook__',\n",
       " 'clear',\n",
       " 'copy',\n",
       " 'fromkeys',\n",
       " 'get',\n",
       " 'items',\n",
       " 'keys',\n",
       " 'pop',\n",
       " 'popitem',\n",
       " 'setdefault',\n",
       " 'update',\n",
       " 'values']"
      ]
     },
     "execution_count": 6,
     "metadata": {},
     "output_type": "execute_result"
    }
   ],
   "source": [
    "dir(dict)"
   ]
  },
  {
   "cell_type": "code",
   "execution_count": 11,
   "id": "14a58a32-0cc5-4d60-820a-cabbcebd4a8e",
   "metadata": {},
   "outputs": [
    {
     "name": "stdout",
     "output_type": "stream",
     "text": [
      "2\n",
      "4\n",
      "6\n",
      "8\n",
      "10\n",
      "12\n",
      "14\n",
      "16\n",
      "18\n",
      "20\n"
     ]
    }
   ],
   "source": [
    "# =============== find even number in the list====================\n",
    "list1 =[1,2,3,4,5,6,7,8,9,10,11,12,13,14,15,16,17,18,19,20]\n",
    "for i in list1:\n",
    "    if i%2==0:\n",
    "        print(i)\n",
    "    "
   ]
  },
  {
   "cell_type": "code",
   "execution_count": 15,
   "id": "adc7600e-d2c1-40af-bc0c-5e4db1c2b4ba",
   "metadata": {},
   "outputs": [
    {
     "name": "stdout",
     "output_type": "stream",
     "text": [
      "1\n",
      "3\n",
      "5\n",
      "7\n",
      "9\n",
      "11\n",
      "13\n",
      "15\n",
      "17\n",
      "19\n"
     ]
    }
   ],
   "source": [
    "#=======================find the odd number in the list================\n",
    "list1 =[1,2,3,4,5,6,7,8,9,10,11,12,13,14,15,16,17,18,19,20]\n",
    "for i in list1:\n",
    "    if i%2!=0:\n",
    "        print(i)"
   ]
  },
  {
   "cell_type": "code",
   "execution_count": 54,
   "id": "e0e1f99e-6fa6-4689-a3e3-5f8100b1bc99",
   "metadata": {},
   "outputs": [
    {
     "name": "stdout",
     "output_type": "stream",
     "text": [
      "yes the number is pelindrom\n"
     ]
    }
   ],
   "source": [
    "a = 123321\n",
    "b=str(a)\n",
    "c=b[::-1]\n",
    "if b == c:\n",
    "    print(\"yes the number is pelindrom\")\n",
    "else:\n",
    "    print(\" NO the number is not palindrom\")\n"
   ]
  },
  {
   "cell_type": "code",
   "execution_count": 82,
   "id": "2a32b30f-4dcc-4ffb-9f71-c5bdf702444d",
   "metadata": {},
   "outputs": [
    {
     "name": "stdout",
     "output_type": "stream",
     "text": [
      "1355578\n"
     ]
    }
   ],
   "source": [
    "x=str(123453545678864)\n",
    "y=x[0:13:2]\n",
    "print(y)"
   ]
  },
  {
   "cell_type": "code",
   "execution_count": 92,
   "id": "2bb6f56f-8584-4dd9-82ec-bc3efefdc8a2",
   "metadata": {},
   "outputs": [
    {
     "ename": "ValueError",
     "evalue": "invalid literal for int() with base 10: 'string'",
     "output_type": "error",
     "traceback": [
      "\u001b[1;31m---------------------------------------------------------------------------\u001b[0m",
      "\u001b[1;31mValueError\u001b[0m                                Traceback (most recent call last)",
      "Cell \u001b[1;32mIn[92], line 2\u001b[0m\n\u001b[0;32m      1\u001b[0m a\u001b[38;5;241m=\u001b[39m\u001b[38;5;124m'\u001b[39m\u001b[38;5;124mstring\u001b[39m\u001b[38;5;124m'\u001b[39m \u001b[38;5;66;03m# string cant be converted into in float\u001b[39;00m\n\u001b[1;32m----> 2\u001b[0m b\u001b[38;5;241m=\u001b[39m\u001b[38;5;28mint\u001b[39m(a)\n\u001b[0;32m      3\u001b[0m \u001b[38;5;28mprint\u001b[39m(b)\n",
      "\u001b[1;31mValueError\u001b[0m: invalid literal for int() with base 10: 'string'"
     ]
    }
   ],
   "source": [
    "a='string' # string cant be converted into in float\n",
    "b=int(a)\n",
    "print(b)"
   ]
  },
  {
   "cell_type": "code",
   "execution_count": 98,
   "id": "27580b12-f105-4c0f-99a7-360211f2f2ad",
   "metadata": {},
   "outputs": [
    {
     "ename": "TypeError",
     "evalue": "int() argument must be a string, a bytes-like object or a real number, not 'complex'",
     "output_type": "error",
     "traceback": [
      "\u001b[1;31m---------------------------------------------------------------------------\u001b[0m",
      "\u001b[1;31mTypeError\u001b[0m                                 Traceback (most recent call last)",
      "Cell \u001b[1;32mIn[98], line 1\u001b[0m\n\u001b[1;32m----> 1\u001b[0m \u001b[38;5;28mint\u001b[39m(\u001b[38;5;241m3\u001b[39m\u001b[38;5;241m+\u001b[39m\u001b[38;5;241m5\u001b[39mj)\n\u001b[0;32m      2\u001b[0m \u001b[38;5;28mfloat\u001b[39m(\u001b[38;5;241m1\u001b[39m\u001b[38;5;241m+\u001b[39m\u001b[38;5;241m3\u001b[39mj)\n",
      "\u001b[1;31mTypeError\u001b[0m: int() argument must be a string, a bytes-like object or a real number, not 'complex'"
     ]
    }
   ],
   "source": [
    "int(3+5j)\n",
    "float(1+3j)"
   ]
  },
  {
   "cell_type": "code",
   "execution_count": 104,
   "id": "6035e0b4-09d2-4705-afa8-4c29c49af76f",
   "metadata": {},
   "outputs": [
    {
     "ename": "TypeError",
     "evalue": "'int' object is not iterable",
     "output_type": "error",
     "traceback": [
      "\u001b[1;31m---------------------------------------------------------------------------\u001b[0m",
      "\u001b[1;31mTypeError\u001b[0m                                 Traceback (most recent call last)",
      "Cell \u001b[1;32mIn[104], line 1\u001b[0m\n\u001b[1;32m----> 1\u001b[0m \u001b[38;5;28mlist\u001b[39m(\u001b[38;5;241m1234\u001b[39m) \u001b[38;5;66;03m#we can not convert non string or literal into list or tuple\u001b[39;00m\n\u001b[0;32m      2\u001b[0m \u001b[38;5;28mtuple\u001b[39m(\u001b[38;5;241m1234\u001b[39m)\n",
      "\u001b[1;31mTypeError\u001b[0m: 'int' object is not iterable"
     ]
    }
   ],
   "source": [
    "list(1234) #we can not convert non string or literal into list or tuple\n",
    "tuple(1234)"
   ]
  },
  {
   "cell_type": "code",
   "execution_count": 140,
   "id": "bbfb8f85-2bd7-4e33-a769-a6d5b743069f",
   "metadata": {},
   "outputs": [
    {
     "ename": "TypeError",
     "evalue": "int() argument must be a string, a bytes-like object or a real number, not 'dict'",
     "output_type": "error",
     "traceback": [
      "\u001b[1;31m---------------------------------------------------------------------------\u001b[0m",
      "\u001b[1;31mTypeError\u001b[0m                                 Traceback (most recent call last)",
      "Cell \u001b[1;32mIn[140], line 1\u001b[0m\n\u001b[1;32m----> 1\u001b[0m \u001b[38;5;28mint\u001b[39m({\u001b[38;5;124m'\u001b[39m\u001b[38;5;124mmp\u001b[39m\u001b[38;5;124m'\u001b[39m:\u001b[38;5;124m'\u001b[39m\u001b[38;5;124mbhopal\u001b[39m\u001b[38;5;124m'\u001b[39m,\u001b[38;5;124m'\u001b[39m\u001b[38;5;124mpanjab\u001b[39m\u001b[38;5;124m'\u001b[39m:\u001b[38;5;124m'\u001b[39m\u001b[38;5;124mchandigard\u001b[39m\u001b[38;5;124m'\u001b[39m})  \u001b[38;5;66;03m#cant convert dict into int float directly\u001b[39;00m\n\u001b[0;32m      2\u001b[0m \u001b[38;5;28mfloat\u001b[39m({\u001b[38;5;124m'\u001b[39m\u001b[38;5;124mmp\u001b[39m\u001b[38;5;124m'\u001b[39m:\u001b[38;5;124m'\u001b[39m\u001b[38;5;124mbhopal\u001b[39m\u001b[38;5;124m'\u001b[39m,\u001b[38;5;124m'\u001b[39m\u001b[38;5;124mpanjab\u001b[39m\u001b[38;5;124m'\u001b[39m:\u001b[38;5;124m'\u001b[39m\u001b[38;5;124mchandigard\u001b[39m\u001b[38;5;124m'\u001b[39m})\n",
      "\u001b[1;31mTypeError\u001b[0m: int() argument must be a string, a bytes-like object or a real number, not 'dict'"
     ]
    }
   ],
   "source": [
    "int({'mp':'bhopal','panjab':'chandigard'})  #cant convert dict into int float directly\n",
    "float({'mp':'bhopal','panjab':'chandigard'})\n"
   ]
  },
  {
   "cell_type": "code",
   "execution_count": 146,
   "id": "c69197e2-b5ce-4e8d-9f0f-2a32fd9ea3b4",
   "metadata": {},
   "outputs": [
    {
     "ename": "TypeError",
     "evalue": "int() argument must be a string, a bytes-like object or a real number, not 'set'",
     "output_type": "error",
     "traceback": [
      "\u001b[1;31m---------------------------------------------------------------------------\u001b[0m",
      "\u001b[1;31mTypeError\u001b[0m                                 Traceback (most recent call last)",
      "Cell \u001b[1;32mIn[146], line 1\u001b[0m\n\u001b[1;32m----> 1\u001b[0m \u001b[38;5;28mint\u001b[39m({\u001b[38;5;241m1\u001b[39m,\u001b[38;5;241m2\u001b[39m,\u001b[38;5;241m3\u001b[39m,\u001b[38;5;241m4\u001b[39m}) \n\u001b[0;32m      2\u001b[0m \u001b[38;5;28mfloat\u001b[39m({\u001b[38;5;241m1\u001b[39m,\u001b[38;5;241m2\u001b[39m,\u001b[38;5;241m3\u001b[39m,\u001b[38;5;241m4\u001b[39m})\n",
      "\u001b[1;31mTypeError\u001b[0m: int() argument must be a string, a bytes-like object or a real number, not 'set'"
     ]
    }
   ],
   "source": [
    "int({1,2,3,4}) \n",
    "float({1,2,3,4})  # cant convert set direct into int float"
   ]
  },
  {
   "cell_type": "code",
   "execution_count": 150,
   "id": "6b543e51-1ad5-44bc-a3a4-32202ccb3cf4",
   "metadata": {},
   "outputs": [
    {
     "ename": "TypeError",
     "evalue": "int() argument must be a string, a bytes-like object or a real number, not 'NoneType'",
     "output_type": "error",
     "traceback": [
      "\u001b[1;31m---------------------------------------------------------------------------\u001b[0m",
      "\u001b[1;31mTypeError\u001b[0m                                 Traceback (most recent call last)",
      "Cell \u001b[1;32mIn[150], line 1\u001b[0m\n\u001b[1;32m----> 1\u001b[0m \u001b[38;5;28mint\u001b[39m(\u001b[38;5;28;01mNone\u001b[39;00m)\n",
      "\u001b[1;31mTypeError\u001b[0m: int() argument must be a string, a bytes-like object or a real number, not 'NoneType'"
     ]
    }
   ],
   "source": [
    "int(None) # cant converts None type into int float"
   ]
  },
  {
   "cell_type": "code",
   "execution_count": 154,
   "id": "daab99b0-1124-4a7d-bd32-a66f950ae301",
   "metadata": {},
   "outputs": [
    {
     "ename": "TypeError",
     "evalue": "'str' object cannot be interpreted as an integer",
     "output_type": "error",
     "traceback": [
      "\u001b[1;31m---------------------------------------------------------------------------\u001b[0m",
      "\u001b[1;31mTypeError\u001b[0m                                 Traceback (most recent call last)",
      "Cell \u001b[1;32mIn[154], line 1\u001b[0m\n\u001b[1;32m----> 1\u001b[0m \u001b[38;5;28mchr\u001b[39m(\u001b[38;5;124m\"\u001b[39m\u001b[38;5;124masd\u001b[39m\u001b[38;5;124m\"\u001b[39m)\n",
      "\u001b[1;31mTypeError\u001b[0m: 'str' object cannot be interpreted as an integer"
     ]
    }
   ],
   "source": [
    "chr(\"asd\") #cant convert string into char value"
   ]
  }
 ],
 "metadata": {
  "kernelspec": {
   "display_name": "Python 3 (ipykernel)",
   "language": "python",
   "name": "python3"
  },
  "language_info": {
   "codemirror_mode": {
    "name": "ipython",
    "version": 3
   },
   "file_extension": ".py",
   "mimetype": "text/x-python",
   "name": "python",
   "nbconvert_exporter": "python",
   "pygments_lexer": "ipython3",
   "version": "3.11.5"
  }
 },
 "nbformat": 4,
 "nbformat_minor": 5
}
