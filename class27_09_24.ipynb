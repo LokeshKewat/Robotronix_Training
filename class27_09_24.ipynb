{
 "cells": [
  {
   "cell_type": "code",
   "execution_count": 41,
   "id": "886d19ba-c25d-43de-89ee-a90fc7b0eb9c",
   "metadata": {},
   "outputs": [
    {
     "name": "stdin",
     "output_type": "stream",
     "text": [
      "inter current time in 24 hr clock 25\n"
     ]
    },
    {
     "name": "stdout",
     "output_type": "stream",
     "text": [
      "good evening\n"
     ]
    }
   ],
   "source": [
    "time =float(input(\"inter current time in 24 hr clock\"))\n",
    "if time >= 12 and time <17:\n",
    "    print(\"good afternoon\")\n",
    "elif time < 12 and time >4:\n",
    "    print(\"good morning\")\n",
    "elif time>21 and time<24 and time>1 and time<4:\n",
    "    print(\"good night\")\n",
    "elif time>17 and time<21:\n",
    "    print('good evening')\n",
    "else:\n",
    "    print(\"enter time in 24 hr range\")\n",
    "    "
   ]
  },
  {
   "cell_type": "code",
   "execution_count": 41,
   "id": "e53315a5-26d4-4170-901a-953a199a714f",
   "metadata": {},
   "outputs": [
    {
     "name": "stdin",
     "output_type": "stream",
     "text": [
      "inter current time in 24 hr clock 25\n"
     ]
    },
    {
     "name": "stdout",
     "output_type": "stream",
     "text": [
      "good evening\n"
     ]
    }
   ],
   "source": [
    "time =float(input(\"inter current time in 24 hr clock\"))\n",
    "print(\"namaste!\")\n"
   ]
  },
  {
   "cell_type": "code",
   "execution_count": 1,
   "id": "f0947051-12a9-48cf-9f1c-f0af2460b6eb",
   "metadata": {},
   "outputs": [
    {
     "name": "stdin",
     "output_type": "stream",
     "text": [
      "enter body temp in Fe 98\n"
     ]
    },
    {
     "name": "stdout",
     "output_type": "stream",
     "text": [
      "normal person\n"
     ]
    }
   ],
   "source": [
    "body_temp=float(input('enter body temp in Fe'))\n",
    "if body_temp ==98.7:\n",
    "    print('Maleria not found')\n",
    "    pt_count = float(input(\" enter platelets count in decimal\"))\n",
    "    if pt_count < 1.8:\n",
    "        print('dangue')\n",
    "    else:\n",
    "        print(\"you are lucky you are fit\")\n",
    "elif body_temp > 98.7 and body_temp<=99:\n",
    "    print(\"normal\")\n",
    "elif body_temp >99 and body_temp <102:\n",
    "    \n",
    "    pt_count = float(input(\" enter platelets count in decimal\"))\n",
    "    if pt_count < 1.8:\n",
    "        print('malaria and dangue')\n",
    "    else:\n",
    "        print(\"may be malaria\")\n",
    "elif body_temp>102:\n",
    "    pt_count = float(input(\" enter platelets count in decimal\"))\n",
    "    if pt_count < 1.8:\n",
    "        print('severe condition get admite in hospital')\n",
    "    else:\n",
    "        print(\"high fever with maleria\")\n",
    "else:\n",
    "    print(\"normal person\")\n",
    "    "
   ]
  },
  {
   "cell_type": "code",
   "execution_count": 43,
   "id": "bcb52ad9-d4a8-4c93-85a9-5377ab42603d",
   "metadata": {},
   "outputs": [],
   "source": [
    "# season and activity suggestion according to time \n",
    "# ____________________________________________________\n",
    " \n",
    "# season   morning               evening\n",
    "# ____________________________________________________\n",
    "# summer   swimming              cricket\n",
    "\n",
    "# winter   cricket               badminton\n",
    "# rainy   football             in door games"
   ]
  },
  {
   "cell_type": "code",
   "execution_count": null,
   "id": "77a28c17-5edd-41b7-bbf6-901539a1e391",
   "metadata": {},
   "outputs": [],
   "source": [
    "season = input(\"enter season :\").lower()\n",
    "if season=='summer':\n",
    "    time = input('enter time morning / evening :').lower()\n",
    "    if time == 'morning':\n",
    "        print('go for swimming')\n",
    "    elif time =='evening':\n",
    "        print('play cricket')\n",
    "    else:\n",
    "        print(\"chup chap ghar per baithe raho\")\n",
    "elif season=='winter':\n",
    "    time = input('enter time morning / evening :').lower()\n",
    "    if time == 'morning':\n",
    "        print('play cricket')\n",
    "    else:\n",
    "        print('play badminton')\n",
    "elif season=='rainy':\n",
    "    time = input('enter time morning / evening :').lower()\n",
    "    if time == 'morning':\n",
    "        print('play football')\n",
    "    else:\n",
    "        print('play In door games')\n",
    "else:\n",
    "    print('enter the correct  season name')\n",
    "\n",
    "    "
   ]
  },
  {
   "cell_type": "code",
   "execution_count": null,
   "id": "b4de8e1f-717b-4f76-8b07-f3b28438e462",
   "metadata": {},
   "outputs": [],
   "source": [
    "# problem 2 \n",
    "# current year ----> 1st 2nd 3rd 4th\n",
    "# previous year satus ----> \n",
    "# cateogory ---------> OBC , SC , ST ,GEN, \n",
    "#  ask percent\n",
    "#  distribute scholorship according to cateogory and percent\n",
    "\n",
    "# sc-  20000\n",
    "# st - 30000\n",
    "# obc - 10000\n",
    "# gen - 0\n",
    "\n",
    "# percent criteria\n",
    "# 50% - 60% -- normal\n",
    "# 65% - 75% -- normal+ 10%\n",
    "# 75% - 85% -- normal+20%\n",
    "# 85% - 95% -- normal+50%\n",
    "# above 95 % govt.job\n",
    "\n",
    "# general cateogory ka yadi percent 95% se jyada he to 5000/- \n"
   ]
  },
  {
   "cell_type": "code",
   "execution_count": 2,
   "id": "0ccca2b4-617e-4be2-b011-61dd25472313",
   "metadata": {},
   "outputs": [],
   "source": [
    "# Loan eligibility based on salary and credit score and emi deduction\n",
    "# salary >20000\n",
    "# emi_deduction 20%\n",
    "# total_emi>40%\n",
    "# num_family > 6\n",
    "# family member ka mothly expendenture salary ke 60% se jyada nahi hona chahiye\n",
    "# exp of family based on number of member shoud not be greater than 60%\n",
    "# 80< credit score > 700  15%\n",
    "# creadit score >850  13%\n",
    "# loan amount + interest /months round off"
   ]
  },
  {
   "cell_type": "code",
   "execution_count": null,
   "id": "482c3fd4-ad37-4a65-8247-77457aae6bac",
   "metadata": {},
   "outputs": [],
   "source": [
    "salary = float(input(\"enter \"))"
   ]
  }
 ],
 "metadata": {
  "kernelspec": {
   "display_name": "Python 3 (ipykernel)",
   "language": "python",
   "name": "python3"
  },
  "language_info": {
   "codemirror_mode": {
    "name": "ipython",
    "version": 3
   },
   "file_extension": ".py",
   "mimetype": "text/x-python",
   "name": "python",
   "nbconvert_exporter": "python",
   "pygments_lexer": "ipython3",
   "version": "3.11.5"
  }
 },
 "nbformat": 4,
 "nbformat_minor": 5
}
