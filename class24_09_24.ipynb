{
 "cells": [
  {
   "cell_type": "code",
   "execution_count": 7,
   "id": "3811b005-a17f-4320-a1f5-b1b4a9a4def3",
   "metadata": {
    "tags": []
   },
   "outputs": [
    {
     "name": "stdout",
     "output_type": "stream",
     "text": [
      "LOKESH KEWAT\n",
      "lokesh kewat\n",
      "Lokesh kewat\n"
     ]
    }
   ],
   "source": [
    "# there are some methodes of \n",
    "print(st.upper()) #converts the character in uppercase\n",
    "print(st.lower()) #converts the character in lowercase\n",
    "print(st.capitalize()) #converts the first letter of first word in the capital letter"
   ]
  },
  {
   "cell_type": "code",
   "execution_count": 4,
   "id": "af42d70b-3833-4f51-8f83-513029dee0fd",
   "metadata": {
    "tags": []
   },
   "outputs": [
    {
     "name": "stdout",
     "output_type": "stream",
     "text": [
      "<class 'str'>\n",
      "<class 'str'>\n"
     ]
    }
   ],
   "source": [
    "#defining the variable\n",
    "#in the the python variable declaration is not neccesary\n",
    "# it automatically convert the input according to there input type\n",
    "st = \"lokesh\"\n",
    "st = 'kewat'\n",
    "print(type(st))\n",
    "print(type(st))"
   ]
  },
  {
   "cell_type": "code",
   "execution_count": 3,
   "id": "1d06a57b-3bab-4303-8b51-761cf6fafbf6",
   "metadata": {
    "tags": []
   },
   "outputs": [
    {
     "name": "stdout",
     "output_type": "stream",
     "text": [
      "Simran nishit hariom rahul suresh\n",
      "Simran|nishit|hariom\n",
      "Simran nishit hariom rahul suresh---Simran nishit hariom\n",
      "rahul suresh\n",
      "Simran nishit\n"
     ]
    }
   ],
   "source": [
    "#==================================== sep='' , end='' keyword ================\n",
    "s1 = \"Simran\"\n",
    "s2= \"nishit\"\n",
    "s3 = \"hariom\"\n",
    "s4=\"rahul\"\n",
    "s5=\"suresh\"\n",
    "\n",
    "print(s1,s2,s3,s4,s5)\n",
    "print(s1,s2,s3,sep=\"|\") # bydefault the value of sep=\" \" is space we can sep the value of sep\n",
    "print(s1,s2,s3,s4,s5,end=\"---\")# we can`t declare sep & end keyword in between it throws the position argument\n",
    "print(s1,s2,s3,end=\"\\n\")\n",
    "print(s4,s5)\n",
    "print(s1,s2)\n",
    "# sep (Separator):\n",
    "# Usage: Defines the string that separates multiple arguments when using print().\n",
    "# Default: By default, sep is set to a space (' ').\n",
    "# end (End Character):\n",
    "# Usage: Specifies what to print at the end of the output. It can be any string, not just newline characters.\n",
    "# Default: By default, end is set to a newline ('\\n')."
   ]
  },
  {
   "cell_type": "code",
   "execution_count": 30,
   "id": "b768209f-e20d-435b-8d5e-3092ef376187",
   "metadata": {
    "tags": []
   },
   "outputs": [
    {
     "name": "stdout",
     "output_type": "stream",
     "text": [
      "Simran nishit\tSimran # nishit # hariom\n",
      "Simran\n",
      "Simran#"
     ]
    }
   ],
   "source": [
    "s1 = \"Simran\"\n",
    "s2= \"nishit\"\n",
    "s3 = \"hariom\"\n",
    "print(s1,s2,end=\"\\t\")\n",
    "print(s1,s2,s3, sep=\" # \")\n",
    "print(s1,sep=\"##\")\n",
    "print(s1,end='#')"
   ]
  },
  {
   "cell_type": "code",
   "execution_count": null,
   "id": "f1156d15-6a89-4f1a-aebf-4e1e45fd589c",
   "metadata": {},
   "outputs": [],
   "source": [
    "#write doubt with date \n",
    "# what is the impact of todays knowledge \n",
    "#9.15 start the training\n",
    "#"
   ]
  },
  {
   "cell_type": "code",
   "execution_count": 5,
   "id": "360f14b4-ff4f-406f-9175-fa5100aa477e",
   "metadata": {},
   "outputs": [],
   "source": [
    "SHOAPNAME ='XYZ CAPITALS'\n",
    "GST12 = 12\n",
    "IGST = 6\n",
    "SGST= 6\n",
    "owenername = 'Rahul jain'\n",
    "accountant_name = 'Dilip Sharma '\n",
    "def CalculateGst():\n",
    "    pass                  #In Python, the pass keyword is used as a placeholder for code that you haven't written yet but need\n",
    "    to maintain syntactically valid structure. It essentially tells the interpreter to \"do nothing.\"\n",
    "class ClientAddition():\n",
    "    pass"
   ]
  },
  {
   "cell_type": "code",
   "execution_count": null,
   "id": "28c2678e-2ca5-43f9-adc3-89ab40215a7a",
   "metadata": {},
   "outputs": [],
   "source": [
    "# 1. Snake Case\n",
    "# Words are all lowercase and separated by underscores (_).\n",
    "# Example: my_variable, student_name\n",
    "# 2. Camel Case\n",
    "# The first word is lowercase, and each subsequent word starts with an uppercase letter, without spaces or underscores.\n",
    "# Example: myVariable, studentName\n",
    "# 3. Pascal Case (or Upper Camel Case)\n",
    "# Similar to Camel Case, but the first word starts with an uppercase letter.\n",
    "# Example: MyVariable, StudentName\n",
    "# 5. Uppercase (or Constant Case)\n",
    "# All letters are uppercase, and words are separated by underscores.\n",
    "# Typically used for constants.\n",
    "# Example: MY_VARIABLE, MAX_SIZE"
   ]
  },
  {
   "cell_type": "code",
   "execution_count": 4,
   "id": "d9f89c07-fee7-470d-b577-6fb9f8b3cd4c",
   "metadata": {},
   "outputs": [],
   "source": [
    "#================= 25/09/2024 ===================#"
   ]
  },
  {
   "cell_type": "code",
   "execution_count": 26,
   "id": "c3217d77-cdbd-423e-ae66-eef7afc795ca",
   "metadata": {},
   "outputs": [
    {
     "name": "stdout",
     "output_type": "stream",
     "text": [
      " I am lokesh kewat\n",
      "study in final year\n",
      "Mom says, \"you are good\"\n"
     ]
    }
   ],
   "source": [
    "st1 = ''' I am lokesh kewat\n",
    "study in final year'''\n",
    "print(st1)\n",
    "st2 = 'Mom says, \"you are good\"'\n",
    "print(st2)"
   ]
  }
 ],
 "metadata": {
  "kernelspec": {
   "display_name": "Python 3 (ipykernel)",
   "language": "python",
   "name": "python3"
  },
  "language_info": {
   "codemirror_mode": {
    "name": "ipython",
    "version": 3
   },
   "file_extension": ".py",
   "mimetype": "text/x-python",
   "name": "python",
   "nbconvert_exporter": "python",
   "pygments_lexer": "ipython3",
   "version": "3.11.5"
  }
 },
 "nbformat": 4,
 "nbformat_minor": 5
}
